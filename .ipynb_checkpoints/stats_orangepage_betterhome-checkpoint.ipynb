{
 "cells": [
  {
   "cell_type": "markdown",
   "metadata": {},
   "source": [
    "# オレンジページとベターホームのレシピの比較"
   ]
  },
  {
   "cell_type": "markdown",
   "metadata": {},
   "source": [
    "## バージョン確認"
   ]
  },
  {
   "cell_type": "code",
   "execution_count": 95,
   "metadata": {
    "scrolled": true
   },
   "outputs": [
    {
     "name": "stdout",
     "output_type": "stream",
     "text": [
      "NAME=\"Ubuntu\"\r\n",
      "VERSION=\"18.04.2 LTS (Bionic Beaver)\"\r\n",
      "ID=ubuntu\r\n",
      "ID_LIKE=debian\r\n",
      "PRETTY_NAME=\"Ubuntu 18.04.2 LTS\"\r\n",
      "VERSION_ID=\"18.04\"\r\n",
      "HOME_URL=\"https://www.ubuntu.com/\"\r\n",
      "SUPPORT_URL=\"https://help.ubuntu.com/\"\r\n",
      "BUG_REPORT_URL=\"https://bugs.launchpad.net/ubuntu/\"\r\n",
      "PRIVACY_POLICY_URL=\"https://www.ubuntu.com/legal/terms-and-policies/privacy-policy\"\r\n",
      "VERSION_CODENAME=bionic\r\n",
      "UBUNTU_CODENAME=bionic\r\n"
     ]
    }
   ],
   "source": [
    "!cat /etc/os-release"
   ]
  },
  {
   "cell_type": "markdown",
   "metadata": {},
   "source": [
    "# 1. 前処理など"
   ]
  },
  {
   "cell_type": "code",
   "execution_count": 96,
   "metadata": {},
   "outputs": [
    {
     "name": "stdout",
     "output_type": "stream",
     "text": [
      "betterhome.ipynb\t   orangepage_recipe\r\n",
      "betterhome_recipe\t   orangepage_recipe_20191219.zip\r\n",
      "betterhome_recipe.zip\t   result.csv\r\n",
      "compare_recipe_length.jpg  stats_orangepage_betterhome.ipynb\r\n",
      "orangepage.ipynb\r\n"
     ]
    }
   ],
   "source": [
    "!ls"
   ]
  },
  {
   "cell_type": "code",
   "execution_count": 97,
   "metadata": {},
   "outputs": [],
   "source": [
    "import os\n",
    "import json\n",
    "from functools import reduce\n",
    "from collections import Counter\n",
    "import pandas as pd\n",
    "import matplotlib.pyplot as plt\n",
    "plt.rcParams['font.size'] = 12\n",
    "import seaborn as sns"
   ]
  },
  {
   "cell_type": "code",
   "execution_count": 98,
   "metadata": {},
   "outputs": [],
   "source": [
    "_ORANGEPAGE_DIR = './orangepage_recipe'\n",
    "_BETTERHOME_DIR = './betterhome_recipe'"
   ]
  },
  {
   "cell_type": "code",
   "execution_count": 99,
   "metadata": {},
   "outputs": [],
   "source": [
    "def read_json_strings(filepath):\n",
    "    with open(filepath, 'r', encoding='utf-8') as r:\n",
    "        data = json.load(r)\n",
    "        \n",
    "    return data"
   ]
  },
  {
   "cell_type": "code",
   "execution_count": 100,
   "metadata": {},
   "outputs": [],
   "source": [
    "def fetch_nest_dictkey(dic):\n",
    "    for key, value in dic.items():\n",
    "        yield key\n",
    "        if isinstance(value, dict):\n",
    "            yield from fetch_nest_dictkey(value)"
   ]
  },
  {
   "cell_type": "code",
   "execution_count": 101,
   "metadata": {},
   "outputs": [],
   "source": [
    "def map_all_data(data_dir):\n",
    "    json_col = []\n",
    "    count = 0\n",
    "    for f in os.listdir(data_dir):\n",
    "        if os.path.isdir(os.path.join(data_dir, f)):\n",
    "            pass\n",
    "        else:\n",
    "            try:\n",
    "                tmp = read_json_strings(os.path.join(data_dir, f))\n",
    "                count += 1\n",
    "                json_col.append(tmp)\n",
    "            except json.decoder.JSONDecodeError:\n",
    "                pass\n",
    "            \n",
    "    return json_col"
   ]
  },
  {
   "cell_type": "code",
   "execution_count": 102,
   "metadata": {},
   "outputs": [],
   "source": [
    "def describe_plot(desc):\n",
    "    fig = plt.figure(figsize=(10,15))\n",
    "    ax1 = fig.add_subplot(3,2,1)\n",
    "    ax2 = fig.add_subplot(3,2,2)\n",
    "    ax3 = fig.add_subplot(3,2,3)\n",
    "    ax4 = fig.add_subplot(3,2,4)\n",
    "    ax5 = fig.add_subplot(3,2,5)\n",
    "    ax6 = fig.add_subplot(3,2,6)\n",
    "    sns.barplot(x='type', y='count', data=desc.T, ax=ax1).set_title('count')\n",
    "    sns.barplot(x='type', y='mean', data=desc.T, ax=ax2).set_title('mean')\n",
    "    sns.barplot(x='type', y='std', data=desc.T, ax=ax3).set_title('std')\n",
    "    sns.barplot(x='type', y='min', data=desc.T, ax=ax4).set_title('min')\n",
    "    sns.barplot(x='type', y='50%', data=desc.T, ax=ax5).set_title('50%')\n",
    "    sns.barplot(x='type', y='max', data=desc.T, ax=ax6).set_title('max')\n",
    "    plt.tight_layout()\n",
    "    plt.show()"
   ]
  },
  {
   "cell_type": "code",
   "execution_count": 103,
   "metadata": {},
   "outputs": [],
   "source": [
    "orangepage_data = map_all_data(_ORANGEPAGE_DIR)\n",
    "betterhome_data = map_all_data(_BETTERHOME_DIR)"
   ]
  },
  {
   "cell_type": "code",
   "execution_count": 104,
   "metadata": {},
   "outputs": [
    {
     "data": {
      "text/plain": [
       "[{'title': '白菜としょうがのスープ',\n",
       "  'url': 'https://www.orangepage.net/recipes/detail_130639',\n",
       "  'recipe': '白菜は葉としんに切り分け、それぞれ一口大に切る。\\n鍋に水1と1/2カップを煮立て、スープの素をくずしながら入れる。溶けたら、しょうが、白菜のしんを加え、2～3分煮る。白菜のしんが柔らかくなったら葉を加えてひと煮し、塩、こしょう各少々で味をととのえ、ごま油小さじ1/2を回し入れる。\\n',\n",
       "  'time': '25',\n",
       "  'calory': '204kcal（1人分）',\n",
       "  'salt': '3.2g（1人分）',\n",
       "  'ingredients': {'材料': '2人分',\n",
       "   '白菜の葉': '2枚（200g）',\n",
       "   'しょうがのせん切り': '大1かけ分',\n",
       "   '洋風スープの素（チキン・固形）': '1個',\n",
       "   '塩': 'こしょう'},\n",
       "  'imageurl': 'https://production-orp.s3.amazonaws.com/uploads/recipes/image/0000130639/20131003152523_w300hf.jpg'},\n",
       " {'title': 'えびとベーコンのピラフ',\n",
       "  'url': 'https://www.orangepage.net/recipes/detail_112811',\n",
       "  'recipe': '米は炊く30分前にといでざるに上げ、水けをきってよく乾かしておく。えびは竹串で背わたを取り除く。ベーコンは幅2cmに切る。いんげんはへたと筋を取り、長さ2cmに切る。ねぎはみじん切りにする。\\nフライパンを中火で熱してバター大さじ1を溶かし、ベーコンとねぎを入れて炒める。ベーコンの脂が出てきたらえびといんげんを加え、炒め合わせる。\\n残りのバターと米を加え、米が透き通るまでよく炒める。固形スープの素を手でほぐし、白ワイン、塩、こしょうと水3カップを加えて強火にし、煮立ったら弱火にしてふたをし、10分煮る。汁けがなくなったら上下を返すようにさっくりと混ぜ、さらに7～8分煮て火を止め、ふたをしたまま約10分蒸らす。器に盛り、好みでクレソンの葉先を摘み、散らす。（1人分543kcal）\\n',\n",
       "  'time': '30',\n",
       "  'calory': '577kcal（1人分）',\n",
       "  'salt': '4.8g（1人分）',\n",
       "  'ingredients': {'材料': '4人分',\n",
       "   '米': '3合（540cc）',\n",
       "   'むきえび': '200g',\n",
       "   'ベーコンの薄切り': '4枚',\n",
       "   'さやいんげん': '40g',\n",
       "   'ねぎ': '1/2本',\n",
       "   'バター': '大さじ2',\n",
       "   '白ワイン': '大さじ2',\n",
       "   '固形スープの素': '1個',\n",
       "   '塩': '小さじ1/2',\n",
       "   'こしょう': '少々',\n",
       "   '好みでクレソン': '適宜'},\n",
       "  'imageurl': 'https://production-orp.s3.amazonaws.com/uploads/recipes/image/0000112811/20131003144238_w300hf.jpg'},\n",
       " {'title': 'ソーセージパイ',\n",
       "  'url': 'https://www.orangepage.net/recipes/detail_120318',\n",
       "  'recipe': 'オーブンを180℃に温めはじめる。ソーセージは包丁で斜めに3本切り込みを入れる。冷凍パイシートは、薄力粉少々をふった作業台の上にのせ、めん棒で厚さ3～4mmになるまでのばして、9×10cmに4枚に切る。表面全体に溶き卵を塗って、カレー粉をふり、ソーセージを1本ずつのせる。\\nパイシートでソーセージを巻き、巻き終わりを指でつまんで留める。巻き終わりを下にして置き、表面にナイフで斜めに3カ所切り込みを入れて、溶き卵を塗る。180℃のオーブンに入れて20分ほど焼く。パイがふくらみ、こんがりとしたら取り出す。（1本分275kcal、塩分1.7g）\\n',\n",
       "  'time': '15',\n",
       "  'calory': '472kcal（1人分）',\n",
       "  'salt': '2.1g（1人分）',\n",
       "  'ingredients': {'材料（4個分）': '',\n",
       "   '冷凍パイシート（18cm四方のもの）': '1枚',\n",
       "   'ソーセージ（ホットドッグ用）': '4本',\n",
       "   'カレー粉': '小さじ2～3',\n",
       "   '溶き卵': '適宜',\n",
       "   '打ち粉用薄力粉': ''},\n",
       "  'imageurl': 'https://production-orp.s3.amazonaws.com/uploads/recipes/image/0000120318/20131003142203_w300hf.jpg'},\n",
       " {'title': '新玉ねぎときぬさやのみそ汁',\n",
       "  'url': 'https://www.orangepage.net/recipes/detail_300848',\n",
       "  'recipe': '新玉ねぎは2cm四方に切る。きぬさやはへたと筋を取り、大きければ斜め半分に切る。\\n鍋にだし汁を中火で煮立て、新玉ねぎを入れて1～2分煮る。きぬさやを加えてひと煮し、弱火にして、みそ大さじ1と1/2を溶き入れて器に盛る。\\n',\n",
       "  'time': '20',\n",
       "  'calory': '361kcal（1人分）',\n",
       "  'salt': '2.3g（1人分）',\n",
       "  'ingredients': {'材料': '2人分',\n",
       "   '新玉ねぎ': '1/4個',\n",
       "   'きぬさや': '10枚',\n",
       "   'だし汁': '2カップ',\n",
       "   'みそ': ''},\n",
       "  'imageurl': 'https://production-orp.s3.amazonaws.com/uploads/recipes/image/0000300848/20171129110317_w300hf.jpg'},\n",
       " {'title': 'かぼちゃのガーリックソテー',\n",
       "  'url': 'https://www.orangepage.net/recipes/detail_102567',\n",
       "  'recipe': 'かぼちゃは厚さ4～5mmのくし形に切り、塩を加えた湯で柔らかくゆでて、水けをきる。にんにくはみじん切りにする。\\nバターでにんにくを香りよく、きつね色に炒めたら、かぼちゃを入れる。両面をこんがりと焼いたら、しょうゆを加えて風味をつけ、パセリをまぶして火を止める。109kcal（1人分）\\n',\n",
       "  'ingredients': {'材料': '4人分',\n",
       "   'かぼちゃ': '1/4個（300g）',\n",
       "   'にんにく': '1かけ',\n",
       "   'バター': '大さじ2',\n",
       "   'しょうゆ': '小さじ2',\n",
       "   'パセリのみじん切り': '大さじ1',\n",
       "   '塩': '少々'},\n",
       "  'imageurl': 'https://production-orp.s3.amazonaws.com/uploads/recipes/image/0000102567/20131003143134_w300hf.jpg'}]"
      ]
     },
     "execution_count": 104,
     "metadata": {},
     "output_type": "execute_result"
    }
   ],
   "source": [
    "orangepage_data[:5]"
   ]
  },
  {
   "cell_type": "code",
   "execution_count": 105,
   "metadata": {
    "scrolled": true
   },
   "outputs": [
    {
     "data": {
      "text/plain": [
       "[{'title': 'あさりの酒蒸し',\n",
       "  'url': 'https://www.bh-recipe.jp/recipe/011200022.html',\n",
       "  'recipe': 'あさりをよく洗い、平らな皿に重ならないように並べて酒をかけます。\\nねぎは小口切りにします。\\n貝を電子レンジで約３分加熱します（ラップなし）。\\n口が開かない貝だけをとり出して、別の器でさらに約１分加熱し、（３）と一緒に盛ります。\\nねぎを散らします。\\n',\n",
       "  'time': '15分以内',\n",
       "  'calory': '20kcal',\n",
       "  'ingredients': {'食材': '2人分',\n",
       "   'あさり（殻つき・砂を吐かせてあるもの）': '３００ｇ',\n",
       "   '酒': '大さじ１',\n",
       "   '青ねぎ': '少々'}},\n",
       " {'title': 'あこうだいの磯蒸し',\n",
       "  'url': 'https://www.bh-recipe.jp/recipe/011700003.html',\n",
       "  'recipe': 'あこうだいは骨を除き、それぞれ半分に切ります。塩を両面にふり、５分ほどおいてから、熱湯にさっと通します（魚のくさみがとれます）。\\nわかめは水洗いして、食べやすく切ります。\\nＡを合わせて、ひと煮立ちさせます。\\n深めの器にわかめの１／４量、１人分の魚、酒大さじ１／２を入れ、（３）を６分目ほど入れます。\\n（４）にふたかラップをして電子レンジに入れ、１個につき約２分加熱します（または８～１０分蒸します）。\\nしょうがをすりおろし、（５）にのせます。\\n',\n",
       "  'time': '15分以内',\n",
       "  'calory': '91kcal',\n",
       "  'ingredients': {'食材': '4人分',\n",
       "   'あこうだい': '４切れ（約３５０ｇ）',\n",
       "   '塩': '小さじ１／２',\n",
       "   'わかめ（塩蔵）': '８０ｇ',\n",
       "   'Ａ': {'だし': 'カップ２と１／２', '塩': '小さじ１／３', 'みりん': '小さじ１／２', 'うすくちしょうゆ': '小さじ１'},\n",
       "   '酒': '大さじ２',\n",
       "   'しょうが': '１かけ'}},\n",
       " {'title': 'タイ風焼きはるさめ',\n",
       "  'url': 'https://www.bh-recipe.jp/recipe/020400039.html',\n",
       "  'recipe': 'はるさめはかためにもどし、食べやすく切ります。ツナは油をきります。もやしは、ひげ根が気になるなら除きます。パクチーは茎を４～５ｃｍ長さに切ります。\\nとうがらしは種をとって小口切り、にんにくは薄切りにします。\\nＡを合わせます。\\n中華鍋に油を熱して（２）をいため、香りが出たらはるさめ、ツナ、もやし、パクチーの茎をいため、Ａで調味します。\\n器に盛って仕上げ用のナムプラーをかけ、パクチーの葉を散らします。\\n',\n",
       "  'time': '15分以内',\n",
       "  'calory': '234kcal',\n",
       "  'ingredients': {'食材': '4人分',\n",
       "   'はるさめ（緑豆）': '７０ｇ',\n",
       "   'ツナ缶詰': '小１缶（１００ｇ）',\n",
       "   'もやし': '１５０ｇ',\n",
       "   '香菜（パクチー）': '１本',\n",
       "   '赤とうがらし': '１～２本',\n",
       "   'にんにく': '１片',\n",
       "   'サラダ油': '大さじ３',\n",
       "   'Ａ': {'レモン汁': '大さじ２', 'ナムプラー': '大さじ１', '砂糖': '小さじ１'},\n",
       "   'ナムプラー（仕上げ用）': '大さじ１／２'}},\n",
       " {'title': 'かぶとりんごの水キムチ',\n",
       "  'url': 'https://www.bh-recipe.jp/recipe/050300050.html',\n",
       "  'recipe': 'かぶは茎を少し残して落とし、皮をむいて縦半分に切り、５ｍｍ厚さに切ります。\\nりんごは皮つきで５ｍｍ厚さのいちょう切りにします。\\nＡとＢを合わせ、かぶとりんごを入れて皿１枚程度の重しをし、冷蔵庫に半日以上おきます。\\n',\n",
       "  'time': '15分以内',\n",
       "  'calory': '70kcal',\n",
       "  'ingredients': {'食材': '4人分',\n",
       "   'かぶ': '６個（６００ｇ）',\n",
       "   'りんご': '１個',\n",
       "   'Ａ': {'水': 'カップ３', '砂糖': '大さじ１', '塩': '大さじ２／３', '酢': '大さじ１'},\n",
       "   'Ｂ': {'しょうがのみじん切り': '１かけ分', 'にんにくのみじん切り': '１片分', '一味とうがらし': '少々'}}},\n",
       " {'title': 'アスパラのすし',\n",
       "  'url': 'https://www.bh-recipe.jp/recipe/020600002.html',\n",
       "  'recipe': '洗った米に水と昆布を加えて30分おき、酒を加えて炊きます。合わせ酢の調味料を合わせます。\\nアスパラガスは根元のかたい皮をむき、色よくゆでて３cm長さの斜め切りにします。しょうゆ大さじ１／２（材料外）をふっておきます。\\nしいたけは石づきをとり、グリルか焼き網で両面を１～２分ずつ焼きます。裏側にしょうゆ大さじ１／２（材料外）をつけ、薄切りにします。\\n卵は砂糖と塩を混ぜ、いり卵を作ります。桜の花の塩漬けは水洗いします。\\nじゃこは熱湯をかけ、合わせ酢につけます。\\nごはんに(5)を混ぜてアスパラガス、しいたけ、いり卵をざっくりと混ぜ、桜の花をのせます。\\n',\n",
       "  'time': '15～30分',\n",
       "  'calory': '389kcal',\n",
       "  'ingredients': {'食材': '4人分',\n",
       "   '＜ごはん＞': {'米': '２合（360ml）', '水': '360ml', '昆布': '５cm', '酒': '大さじ１'},\n",
       "   '＜合わせ酢＞': {'酢': '大さじ４', '砂糖': '大さじ１・1／3', '塩': '小さじ１'},\n",
       "   '＜具＞': {'ちりめんじゃこ': '20g',\n",
       "    'グリーンアスパラガス': '約10本（200g）',\n",
       "    'しいたけ': '６個',\n",
       "    '卵': '３個',\n",
       "    '砂糖': '大さじ１',\n",
       "    '塩': '少々',\n",
       "    '桜の花の塩漬け': '10～12個'}}}]"
      ]
     },
     "execution_count": 105,
     "metadata": {},
     "output_type": "execute_result"
    }
   ],
   "source": [
    "betterhome_data[:5]"
   ]
  },
  {
   "cell_type": "code",
   "execution_count": 106,
   "metadata": {},
   "outputs": [],
   "source": [
    "ora = {\n",
    "    'json_col': orangepage_data\n",
    "}\n",
    "bet = {\n",
    "    'json_col': betterhome_data\n",
    "}"
   ]
  },
  {
   "cell_type": "code",
   "execution_count": 107,
   "metadata": {},
   "outputs": [],
   "source": [
    "ora = pd.DataFrame(orangepage_data)\n",
    "bet = pd.DataFrame(betterhome_data)"
   ]
  },
  {
   "cell_type": "code",
   "execution_count": 108,
   "metadata": {},
   "outputs": [
    {
     "data": {
      "text/html": [
       "<div>\n",
       "<style scoped>\n",
       "    .dataframe tbody tr th:only-of-type {\n",
       "        vertical-align: middle;\n",
       "    }\n",
       "\n",
       "    .dataframe tbody tr th {\n",
       "        vertical-align: top;\n",
       "    }\n",
       "\n",
       "    .dataframe thead th {\n",
       "        text-align: right;\n",
       "    }\n",
       "</style>\n",
       "<table border=\"1\" class=\"dataframe\">\n",
       "  <thead>\n",
       "    <tr style=\"text-align: right;\">\n",
       "      <th></th>\n",
       "      <th>title</th>\n",
       "      <th>url</th>\n",
       "      <th>recipe</th>\n",
       "      <th>time</th>\n",
       "      <th>calory</th>\n",
       "      <th>salt</th>\n",
       "      <th>ingredients</th>\n",
       "      <th>imageurl</th>\n",
       "      <th>cookingtime</th>\n",
       "    </tr>\n",
       "  </thead>\n",
       "  <tbody>\n",
       "    <tr>\n",
       "      <th>0</th>\n",
       "      <td>白菜としょうがのスープ</td>\n",
       "      <td>https://www.orangepage.net/recipes/detail_130639</td>\n",
       "      <td>白菜は葉としんに切り分け、それぞれ一口大に切る。\\n鍋に水1と1/2カップを煮立て、スープの...</td>\n",
       "      <td>25</td>\n",
       "      <td>204kcal（1人分）</td>\n",
       "      <td>3.2g（1人分）</td>\n",
       "      <td>{'材料': '2人分', '白菜の葉': '2枚（200g）', 'しょうがのせん切り':...</td>\n",
       "      <td>https://production-orp.s3.amazonaws.com/upload...</td>\n",
       "      <td>NaN</td>\n",
       "    </tr>\n",
       "    <tr>\n",
       "      <th>1</th>\n",
       "      <td>えびとベーコンのピラフ</td>\n",
       "      <td>https://www.orangepage.net/recipes/detail_112811</td>\n",
       "      <td>米は炊く30分前にといでざるに上げ、水けをきってよく乾かしておく。えびは竹串で背わたを取り除...</td>\n",
       "      <td>30</td>\n",
       "      <td>577kcal（1人分）</td>\n",
       "      <td>4.8g（1人分）</td>\n",
       "      <td>{'材料': '4人分', '米': '3合（540cc）', 'むきえび': '200g'...</td>\n",
       "      <td>https://production-orp.s3.amazonaws.com/upload...</td>\n",
       "      <td>NaN</td>\n",
       "    </tr>\n",
       "    <tr>\n",
       "      <th>2</th>\n",
       "      <td>ソーセージパイ</td>\n",
       "      <td>https://www.orangepage.net/recipes/detail_120318</td>\n",
       "      <td>オーブンを180℃に温めはじめる。ソーセージは包丁で斜めに3本切り込みを入れる。冷凍パイシー...</td>\n",
       "      <td>15</td>\n",
       "      <td>472kcal（1人分）</td>\n",
       "      <td>2.1g（1人分）</td>\n",
       "      <td>{'材料（4個分）': '', '冷凍パイシート（18cm四方のもの）': '1枚', 'ソ...</td>\n",
       "      <td>https://production-orp.s3.amazonaws.com/upload...</td>\n",
       "      <td>NaN</td>\n",
       "    </tr>\n",
       "    <tr>\n",
       "      <th>3</th>\n",
       "      <td>新玉ねぎときぬさやのみそ汁</td>\n",
       "      <td>https://www.orangepage.net/recipes/detail_300848</td>\n",
       "      <td>新玉ねぎは2cm四方に切る。きぬさやはへたと筋を取り、大きければ斜め半分に切る。\\n鍋にだし...</td>\n",
       "      <td>20</td>\n",
       "      <td>361kcal（1人分）</td>\n",
       "      <td>2.3g（1人分）</td>\n",
       "      <td>{'材料': '2人分', '新玉ねぎ': '1/4個', 'きぬさや': '10枚', '...</td>\n",
       "      <td>https://production-orp.s3.amazonaws.com/upload...</td>\n",
       "      <td>NaN</td>\n",
       "    </tr>\n",
       "    <tr>\n",
       "      <th>4</th>\n",
       "      <td>かぼちゃのガーリックソテー</td>\n",
       "      <td>https://www.orangepage.net/recipes/detail_102567</td>\n",
       "      <td>かぼちゃは厚さ4～5mmのくし形に切り、塩を加えた湯で柔らかくゆでて、水けをきる。にんにくは...</td>\n",
       "      <td>NaN</td>\n",
       "      <td>NaN</td>\n",
       "      <td>NaN</td>\n",
       "      <td>{'材料': '4人分', 'かぼちゃ': '1/4個（300g）', 'にんにく': '1...</td>\n",
       "      <td>https://production-orp.s3.amazonaws.com/upload...</td>\n",
       "      <td>NaN</td>\n",
       "    </tr>\n",
       "  </tbody>\n",
       "</table>\n",
       "</div>"
      ],
      "text/plain": [
       "           title                                               url  \\\n",
       "0    白菜としょうがのスープ  https://www.orangepage.net/recipes/detail_130639   \n",
       "1    えびとベーコンのピラフ  https://www.orangepage.net/recipes/detail_112811   \n",
       "2        ソーセージパイ  https://www.orangepage.net/recipes/detail_120318   \n",
       "3  新玉ねぎときぬさやのみそ汁  https://www.orangepage.net/recipes/detail_300848   \n",
       "4  かぼちゃのガーリックソテー  https://www.orangepage.net/recipes/detail_102567   \n",
       "\n",
       "                                              recipe time        calory  \\\n",
       "0  白菜は葉としんに切り分け、それぞれ一口大に切る。\\n鍋に水1と1/2カップを煮立て、スープの...   25  204kcal（1人分）   \n",
       "1  米は炊く30分前にといでざるに上げ、水けをきってよく乾かしておく。えびは竹串で背わたを取り除...   30  577kcal（1人分）   \n",
       "2  オーブンを180℃に温めはじめる。ソーセージは包丁で斜めに3本切り込みを入れる。冷凍パイシー...   15  472kcal（1人分）   \n",
       "3  新玉ねぎは2cm四方に切る。きぬさやはへたと筋を取り、大きければ斜め半分に切る。\\n鍋にだし...   20  361kcal（1人分）   \n",
       "4  かぼちゃは厚さ4～5mmのくし形に切り、塩を加えた湯で柔らかくゆでて、水けをきる。にんにくは...  NaN           NaN   \n",
       "\n",
       "        salt                                        ingredients  \\\n",
       "0  3.2g（1人分）  {'材料': '2人分', '白菜の葉': '2枚（200g）', 'しょうがのせん切り':...   \n",
       "1  4.8g（1人分）  {'材料': '4人分', '米': '3合（540cc）', 'むきえび': '200g'...   \n",
       "2  2.1g（1人分）  {'材料（4個分）': '', '冷凍パイシート（18cm四方のもの）': '1枚', 'ソ...   \n",
       "3  2.3g（1人分）  {'材料': '2人分', '新玉ねぎ': '1/4個', 'きぬさや': '10枚', '...   \n",
       "4        NaN  {'材料': '4人分', 'かぼちゃ': '1/4個（300g）', 'にんにく': '1...   \n",
       "\n",
       "                                            imageurl cookingtime  \n",
       "0  https://production-orp.s3.amazonaws.com/upload...         NaN  \n",
       "1  https://production-orp.s3.amazonaws.com/upload...         NaN  \n",
       "2  https://production-orp.s3.amazonaws.com/upload...         NaN  \n",
       "3  https://production-orp.s3.amazonaws.com/upload...         NaN  \n",
       "4  https://production-orp.s3.amazonaws.com/upload...         NaN  "
      ]
     },
     "execution_count": 108,
     "metadata": {},
     "output_type": "execute_result"
    }
   ],
   "source": [
    "ora.head()"
   ]
  },
  {
   "cell_type": "code",
   "execution_count": 109,
   "metadata": {
    "scrolled": true
   },
   "outputs": [
    {
     "data": {
      "text/html": [
       "<div>\n",
       "<style scoped>\n",
       "    .dataframe tbody tr th:only-of-type {\n",
       "        vertical-align: middle;\n",
       "    }\n",
       "\n",
       "    .dataframe tbody tr th {\n",
       "        vertical-align: top;\n",
       "    }\n",
       "\n",
       "    .dataframe thead th {\n",
       "        text-align: right;\n",
       "    }\n",
       "</style>\n",
       "<table border=\"1\" class=\"dataframe\">\n",
       "  <thead>\n",
       "    <tr style=\"text-align: right;\">\n",
       "      <th></th>\n",
       "      <th>title</th>\n",
       "      <th>url</th>\n",
       "      <th>recipe</th>\n",
       "      <th>time</th>\n",
       "      <th>calory</th>\n",
       "      <th>ingredients</th>\n",
       "    </tr>\n",
       "  </thead>\n",
       "  <tbody>\n",
       "    <tr>\n",
       "      <th>0</th>\n",
       "      <td>あさりの酒蒸し</td>\n",
       "      <td>https://www.bh-recipe.jp/recipe/011200022.html</td>\n",
       "      <td>あさりをよく洗い、平らな皿に重ならないように並べて酒をかけます。\\nねぎは小口切りにします。...</td>\n",
       "      <td>15分以内</td>\n",
       "      <td>20kcal</td>\n",
       "      <td>{'食材': '2人分', 'あさり（殻つき・砂を吐かせてあるもの）': '３００ｇ', '...</td>\n",
       "    </tr>\n",
       "    <tr>\n",
       "      <th>1</th>\n",
       "      <td>あこうだいの磯蒸し</td>\n",
       "      <td>https://www.bh-recipe.jp/recipe/011700003.html</td>\n",
       "      <td>あこうだいは骨を除き、それぞれ半分に切ります。塩を両面にふり、５分ほどおいてから、熱湯にさっ...</td>\n",
       "      <td>15分以内</td>\n",
       "      <td>91kcal</td>\n",
       "      <td>{'食材': '4人分', 'あこうだい': '４切れ（約３５０ｇ）', '塩': '小さじ...</td>\n",
       "    </tr>\n",
       "    <tr>\n",
       "      <th>2</th>\n",
       "      <td>タイ風焼きはるさめ</td>\n",
       "      <td>https://www.bh-recipe.jp/recipe/020400039.html</td>\n",
       "      <td>はるさめはかためにもどし、食べやすく切ります。ツナは油をきります。もやしは、ひげ根が気になる...</td>\n",
       "      <td>15分以内</td>\n",
       "      <td>234kcal</td>\n",
       "      <td>{'食材': '4人分', 'はるさめ（緑豆）': '７０ｇ', 'ツナ缶詰': '小１缶（...</td>\n",
       "    </tr>\n",
       "    <tr>\n",
       "      <th>3</th>\n",
       "      <td>かぶとりんごの水キムチ</td>\n",
       "      <td>https://www.bh-recipe.jp/recipe/050300050.html</td>\n",
       "      <td>かぶは茎を少し残して落とし、皮をむいて縦半分に切り、５ｍｍ厚さに切ります。\\nりんごは皮つき...</td>\n",
       "      <td>15分以内</td>\n",
       "      <td>70kcal</td>\n",
       "      <td>{'食材': '4人分', 'かぶ': '６個（６００ｇ）', 'りんご': '１個', '...</td>\n",
       "    </tr>\n",
       "    <tr>\n",
       "      <th>4</th>\n",
       "      <td>アスパラのすし</td>\n",
       "      <td>https://www.bh-recipe.jp/recipe/020600002.html</td>\n",
       "      <td>洗った米に水と昆布を加えて30分おき、酒を加えて炊きます。合わせ酢の調味料を合わせます。\\n...</td>\n",
       "      <td>15～30分</td>\n",
       "      <td>389kcal</td>\n",
       "      <td>{'食材': '4人分', '＜ごはん＞': {'米': '２合（360ml）', '水':...</td>\n",
       "    </tr>\n",
       "  </tbody>\n",
       "</table>\n",
       "</div>"
      ],
      "text/plain": [
       "         title                                             url  \\\n",
       "0      あさりの酒蒸し  https://www.bh-recipe.jp/recipe/011200022.html   \n",
       "1    あこうだいの磯蒸し  https://www.bh-recipe.jp/recipe/011700003.html   \n",
       "2    タイ風焼きはるさめ  https://www.bh-recipe.jp/recipe/020400039.html   \n",
       "3  かぶとりんごの水キムチ  https://www.bh-recipe.jp/recipe/050300050.html   \n",
       "4      アスパラのすし  https://www.bh-recipe.jp/recipe/020600002.html   \n",
       "\n",
       "                                              recipe    time   calory  \\\n",
       "0  あさりをよく洗い、平らな皿に重ならないように並べて酒をかけます。\\nねぎは小口切りにします。...   15分以内   20kcal   \n",
       "1  あこうだいは骨を除き、それぞれ半分に切ります。塩を両面にふり、５分ほどおいてから、熱湯にさっ...   15分以内   91kcal   \n",
       "2  はるさめはかためにもどし、食べやすく切ります。ツナは油をきります。もやしは、ひげ根が気になる...   15分以内  234kcal   \n",
       "3  かぶは茎を少し残して落とし、皮をむいて縦半分に切り、５ｍｍ厚さに切ります。\\nりんごは皮つき...   15分以内   70kcal   \n",
       "4  洗った米に水と昆布を加えて30分おき、酒を加えて炊きます。合わせ酢の調味料を合わせます。\\n...  15～30分  389kcal   \n",
       "\n",
       "                                         ingredients  \n",
       "0  {'食材': '2人分', 'あさり（殻つき・砂を吐かせてあるもの）': '３００ｇ', '...  \n",
       "1  {'食材': '4人分', 'あこうだい': '４切れ（約３５０ｇ）', '塩': '小さじ...  \n",
       "2  {'食材': '4人分', 'はるさめ（緑豆）': '７０ｇ', 'ツナ缶詰': '小１缶（...  \n",
       "3  {'食材': '4人分', 'かぶ': '６個（６００ｇ）', 'りんご': '１個', '...  \n",
       "4  {'食材': '4人分', '＜ごはん＞': {'米': '２合（360ml）', '水':...  "
      ]
     },
     "execution_count": 109,
     "metadata": {},
     "output_type": "execute_result"
    }
   ],
   "source": [
    "bet.head()"
   ]
  },
  {
   "cell_type": "markdown",
   "metadata": {},
   "source": [
    "# 全ての食材(上位100)"
   ]
  },
  {
   "cell_type": "markdown",
   "metadata": {},
   "source": [
    "## オレンジページ"
   ]
  },
  {
   "cell_type": "code",
   "execution_count": 110,
   "metadata": {
    "scrolled": true
   },
   "outputs": [
    {
     "name": "stderr",
     "output_type": "stream",
     "text": [
      "/opt/conda/lib/python3.7/site-packages/matplotlib/backends/backend_agg.py:211: RuntimeWarning: Glyph 35930 missing from current font.\n",
      "  font.set_text(s, 0.0, flags=flags)\n",
      "/opt/conda/lib/python3.7/site-packages/matplotlib/backends/backend_agg.py:211: RuntimeWarning: Glyph 12371 missing from current font.\n",
      "  font.set_text(s, 0.0, flags=flags)\n",
      "/opt/conda/lib/python3.7/site-packages/matplotlib/backends/backend_agg.py:211: RuntimeWarning: Glyph 12414 missing from current font.\n",
      "  font.set_text(s, 0.0, flags=flags)\n",
      "/opt/conda/lib/python3.7/site-packages/matplotlib/backends/backend_agg.py:211: RuntimeWarning: Glyph 20999 missing from current font.\n",
      "  font.set_text(s, 0.0, flags=flags)\n",
      "/opt/conda/lib/python3.7/site-packages/matplotlib/backends/backend_agg.py:211: RuntimeWarning: Glyph 12428 missing from current font.\n",
      "  font.set_text(s, 0.0, flags=flags)\n",
      "/opt/conda/lib/python3.7/site-packages/matplotlib/backends/backend_agg.py:211: RuntimeWarning: Glyph 32905 missing from current font.\n",
      "  font.set_text(s, 0.0, flags=flags)\n",
      "/opt/conda/lib/python3.7/site-packages/matplotlib/backends/backend_agg.py:211: RuntimeWarning: Glyph 26448 missing from current font.\n",
      "  font.set_text(s, 0.0, flags=flags)\n",
      "/opt/conda/lib/python3.7/site-packages/matplotlib/backends/backend_agg.py:211: RuntimeWarning: Glyph 26009 missing from current font.\n",
      "  font.set_text(s, 0.0, flags=flags)\n",
      "/opt/conda/lib/python3.7/site-packages/matplotlib/backends/backend_agg.py:211: RuntimeWarning: Glyph 65288 missing from current font.\n",
      "  font.set_text(s, 0.0, flags=flags)\n",
      "/opt/conda/lib/python3.7/site-packages/matplotlib/backends/backend_agg.py:211: RuntimeWarning: Glyph 20316 missing from current font.\n",
      "  font.set_text(s, 0.0, flags=flags)\n",
      "/opt/conda/lib/python3.7/site-packages/matplotlib/backends/backend_agg.py:211: RuntimeWarning: Glyph 12426 missing from current font.\n",
      "  font.set_text(s, 0.0, flags=flags)\n",
      "/opt/conda/lib/python3.7/site-packages/matplotlib/backends/backend_agg.py:211: RuntimeWarning: Glyph 12420 missing from current font.\n",
      "  font.set_text(s, 0.0, flags=flags)\n",
      "/opt/conda/lib/python3.7/site-packages/matplotlib/backends/backend_agg.py:211: RuntimeWarning: Glyph 12377 missing from current font.\n",
      "  font.set_text(s, 0.0, flags=flags)\n",
      "/opt/conda/lib/python3.7/site-packages/matplotlib/backends/backend_agg.py:211: RuntimeWarning: Glyph 12356 missing from current font.\n",
      "  font.set_text(s, 0.0, flags=flags)\n",
      "/opt/conda/lib/python3.7/site-packages/matplotlib/backends/backend_agg.py:211: RuntimeWarning: Glyph 20998 missing from current font.\n",
      "  font.set_text(s, 0.0, flags=flags)\n",
      "/opt/conda/lib/python3.7/site-packages/matplotlib/backends/backend_agg.py:211: RuntimeWarning: Glyph 37327 missing from current font.\n",
      "  font.set_text(s, 0.0, flags=flags)\n",
      "/opt/conda/lib/python3.7/site-packages/matplotlib/backends/backend_agg.py:211: RuntimeWarning: Glyph 65289 missing from current font.\n",
      "  font.set_text(s, 0.0, flags=flags)\n",
      "/opt/conda/lib/python3.7/site-packages/matplotlib/backends/backend_agg.py:211: RuntimeWarning: Glyph 19975 missing from current font.\n",
      "  font.set_text(s, 0.0, flags=flags)\n",
      "/opt/conda/lib/python3.7/site-packages/matplotlib/backends/backend_agg.py:211: RuntimeWarning: Glyph 33021 missing from current font.\n",
      "  font.set_text(s, 0.0, flags=flags)\n",
      "/opt/conda/lib/python3.7/site-packages/matplotlib/backends/backend_agg.py:211: RuntimeWarning: Glyph 12397 missing from current font.\n",
      "  font.set_text(s, 0.0, flags=flags)\n",
      "/opt/conda/lib/python3.7/site-packages/matplotlib/backends/backend_agg.py:211: RuntimeWarning: Glyph 12366 missing from current font.\n",
      "  font.set_text(s, 0.0, flags=flags)\n",
      "/opt/conda/lib/python3.7/site-packages/matplotlib/backends/backend_agg.py:211: RuntimeWarning: Glyph 12398 missing from current font.\n",
      "  font.set_text(s, 0.0, flags=flags)\n",
      "/opt/conda/lib/python3.7/site-packages/matplotlib/backends/backend_agg.py:211: RuntimeWarning: Glyph 23567 missing from current font.\n",
      "  font.set_text(s, 0.0, flags=flags)\n",
      "/opt/conda/lib/python3.7/site-packages/matplotlib/backends/backend_agg.py:211: RuntimeWarning: Glyph 21475 missing from current font.\n",
      "  font.set_text(s, 0.0, flags=flags)\n",
      "/opt/conda/lib/python3.7/site-packages/matplotlib/backends/backend_agg.py:211: RuntimeWarning: Glyph 65378 missing from current font.\n",
      "  font.set_text(s, 0.0, flags=flags)\n",
      "/opt/conda/lib/python3.7/site-packages/matplotlib/backends/backend_agg.py:211: RuntimeWarning: Glyph 26041 missing from current font.\n",
      "  font.set_text(s, 0.0, flags=flags)\n",
      "/opt/conda/lib/python3.7/site-packages/matplotlib/backends/backend_agg.py:211: RuntimeWarning: Glyph 65379 missing from current font.\n",
      "  font.set_text(s, 0.0, flags=flags)\n",
      "/opt/conda/lib/python3.7/site-packages/matplotlib/backends/backend_agg.py:211: RuntimeWarning: Glyph 21442 missing from current font.\n",
      "  font.set_text(s, 0.0, flags=flags)\n",
      "/opt/conda/lib/python3.7/site-packages/matplotlib/backends/backend_agg.py:211: RuntimeWarning: Glyph 29031 missing from current font.\n",
      "  font.set_text(s, 0.0, flags=flags)\n",
      "/opt/conda/lib/python3.7/site-packages/matplotlib/backends/backend_agg.py:211: RuntimeWarning: Glyph 31895 missing from current font.\n",
      "  font.set_text(s, 0.0, flags=flags)\n",
      "/opt/conda/lib/python3.7/site-packages/matplotlib/backends/backend_agg.py:211: RuntimeWarning: Glyph 12403 missing from current font.\n",
      "  font.set_text(s, 0.0, flags=flags)\n",
      "/opt/conda/lib/python3.7/site-packages/matplotlib/backends/backend_agg.py:211: RuntimeWarning: Glyph 12365 missing from current font.\n",
      "  font.set_text(s, 0.0, flags=flags)\n",
      "/opt/conda/lib/python3.7/site-packages/matplotlib/backends/backend_agg.py:211: RuntimeWarning: Glyph 40658 missing from current font.\n",
      "  font.set_text(s, 0.0, flags=flags)\n",
      "/opt/conda/lib/python3.7/site-packages/matplotlib/backends/backend_agg.py:211: RuntimeWarning: Glyph 12375 missing from current font.\n",
      "  font.set_text(s, 0.0, flags=flags)\n",
      "/opt/conda/lib/python3.7/site-packages/matplotlib/backends/backend_agg.py:211: RuntimeWarning: Glyph 12423 missing from current font.\n",
      "  font.set_text(s, 0.0, flags=flags)\n",
      "/opt/conda/lib/python3.7/site-packages/matplotlib/backends/backend_agg.py:211: RuntimeWarning: Glyph 12358 missing from current font.\n",
      "  font.set_text(s, 0.0, flags=flags)\n",
      "/opt/conda/lib/python3.7/site-packages/matplotlib/backends/backend_agg.py:211: RuntimeWarning: Glyph 12524 missing from current font.\n",
      "  font.set_text(s, 0.0, flags=flags)\n",
      "/opt/conda/lib/python3.7/site-packages/matplotlib/backends/backend_agg.py:211: RuntimeWarning: Glyph 12479 missing from current font.\n",
      "  font.set_text(s, 0.0, flags=flags)\n",
      "/opt/conda/lib/python3.7/site-packages/matplotlib/backends/backend_agg.py:211: RuntimeWarning: Glyph 12473 missing from current font.\n",
      "  font.set_text(s, 0.0, flags=flags)\n",
      "/opt/conda/lib/python3.7/site-packages/matplotlib/backends/backend_agg.py:211: RuntimeWarning: Glyph 33865 missing from current font.\n",
      "  font.set_text(s, 0.0, flags=flags)\n",
      "/opt/conda/lib/python3.7/site-packages/matplotlib/backends/backend_agg.py:211: RuntimeWarning: Glyph 12383 missing from current font.\n",
      "  font.set_text(s, 0.0, flags=flags)\n",
      "/opt/conda/lib/python3.7/site-packages/matplotlib/backends/backend_agg.py:211: RuntimeWarning: Glyph 26494 missing from current font.\n",
      "  font.set_text(s, 0.0, flags=flags)\n",
      "/opt/conda/lib/python3.7/site-packages/matplotlib/backends/backend_agg.py:211: RuntimeWarning: Glyph 33756 missing from current font.\n",
      "  font.set_text(s, 0.0, flags=flags)\n",
      "/opt/conda/lib/python3.7/site-packages/matplotlib/backends/backend_agg.py:211: RuntimeWarning: Glyph 12411 missing from current font.\n",
      "  font.set_text(s, 0.0, flags=flags)\n",
      "/opt/conda/lib/python3.7/site-packages/matplotlib/backends/backend_agg.py:211: RuntimeWarning: Glyph 12435 missing from current font.\n",
      "  font.set_text(s, 0.0, flags=flags)\n",
      "/opt/conda/lib/python3.7/site-packages/matplotlib/backends/backend_agg.py:211: RuntimeWarning: Glyph 33609 missing from current font.\n",
      "  font.set_text(s, 0.0, flags=flags)\n",
      "/opt/conda/lib/python3.7/site-packages/matplotlib/backends/backend_agg.py:211: RuntimeWarning: Glyph 12461 missing from current font.\n",
      "  font.set_text(s, 0.0, flags=flags)\n",
      "/opt/conda/lib/python3.7/site-packages/matplotlib/backends/backend_agg.py:211: RuntimeWarning: Glyph 12515 missing from current font.\n",
      "  font.set_text(s, 0.0, flags=flags)\n",
      "/opt/conda/lib/python3.7/site-packages/matplotlib/backends/backend_agg.py:211: RuntimeWarning: Glyph 12505 missing from current font.\n",
      "  font.set_text(s, 0.0, flags=flags)\n",
      "/opt/conda/lib/python3.7/site-packages/matplotlib/backends/backend_agg.py:211: RuntimeWarning: Glyph 12484 missing from current font.\n",
      "  font.set_text(s, 0.0, flags=flags)\n",
      "/opt/conda/lib/python3.7/site-packages/matplotlib/backends/backend_agg.py:211: RuntimeWarning: Glyph 21512 missing from current font.\n",
      "  font.set_text(s, 0.0, flags=flags)\n",
      "/opt/conda/lib/python3.7/site-packages/matplotlib/backends/backend_agg.py:211: RuntimeWarning: Glyph 12364 missing from current font.\n",
      "  font.set_text(s, 0.0, flags=flags)\n",
      "/opt/conda/lib/python3.7/site-packages/matplotlib/backends/backend_agg.py:211: RuntimeWarning: Glyph 12415 missing from current font.\n",
      "  font.set_text(s, 0.0, flags=flags)\n",
      "/opt/conda/lib/python3.7/site-packages/matplotlib/backends/backend_agg.py:211: RuntimeWarning: Glyph 12376 missing from current font.\n",
      "  font.set_text(s, 0.0, flags=flags)\n",
      "/opt/conda/lib/python3.7/site-packages/matplotlib/backends/backend_agg.py:211: RuntimeWarning: Glyph 38738 missing from current font.\n",
      "  font.set_text(s, 0.0, flags=flags)\n",
      "/opt/conda/lib/python3.7/site-packages/matplotlib/backends/backend_agg.py:211: RuntimeWarning: Glyph 26775 missing from current font.\n",
      "  font.set_text(s, 0.0, flags=flags)\n",
      "/opt/conda/lib/python3.7/site-packages/matplotlib/backends/backend_agg.py:211: RuntimeWarning: Glyph 12396 missing from current font.\n",
      "  font.set_text(s, 0.0, flags=flags)\n",
      "/opt/conda/lib/python3.7/site-packages/matplotlib/backends/backend_agg.py:211: RuntimeWarning: Glyph 12373 missing from current font.\n",
      "  font.set_text(s, 0.0, flags=flags)\n",
      "/opt/conda/lib/python3.7/site-packages/matplotlib/backends/backend_agg.py:211: RuntimeWarning: Glyph 19977 missing from current font.\n",
      "  font.set_text(s, 0.0, flags=flags)\n",
      "/opt/conda/lib/python3.7/site-packages/matplotlib/backends/backend_agg.py:211: RuntimeWarning: Glyph 12388 missing from current font.\n",
      "  font.set_text(s, 0.0, flags=flags)\n",
      "/opt/conda/lib/python3.7/site-packages/matplotlib/backends/backend_agg.py:211: RuntimeWarning: Glyph 12360 missing from current font.\n",
      "  font.set_text(s, 0.0, flags=flags)\n",
      "/opt/conda/lib/python3.7/site-packages/matplotlib/backends/backend_agg.py:211: RuntimeWarning: Glyph 12384 missing from current font.\n",
      "  font.set_text(s, 0.0, flags=flags)\n",
      "/opt/conda/lib/python3.7/site-packages/matplotlib/backends/backend_agg.py:211: RuntimeWarning: Glyph 12369 missing from current font.\n",
      "  font.set_text(s, 0.0, flags=flags)\n",
      "/opt/conda/lib/python3.7/site-packages/matplotlib/backends/backend_agg.py:211: RuntimeWarning: Glyph 40335 missing from current font.\n",
      "  font.set_text(s, 0.0, flags=flags)\n",
      "/opt/conda/lib/python3.7/site-packages/matplotlib/backends/backend_agg.py:211: RuntimeWarning: Glyph 12402 missing from current font.\n",
      "  font.set_text(s, 0.0, flags=flags)\n",
      "/opt/conda/lib/python3.7/site-packages/matplotlib/backends/backend_agg.py:211: RuntimeWarning: Glyph 12475 missing from current font.\n",
      "  font.set_text(s, 0.0, flags=flags)\n",
      "/opt/conda/lib/python3.7/site-packages/matplotlib/backends/backend_agg.py:211: RuntimeWarning: Glyph 12525 missing from current font.\n",
      "  font.set_text(s, 0.0, flags=flags)\n",
      "/opt/conda/lib/python3.7/site-packages/matplotlib/backends/backend_agg.py:211: RuntimeWarning: Glyph 12522 missing from current font.\n",
      "  font.set_text(s, 0.0, flags=flags)\n",
      "/opt/conda/lib/python3.7/site-packages/matplotlib/backends/backend_agg.py:211: RuntimeWarning: Glyph 31881 missing from current font.\n",
      "  font.set_text(s, 0.0, flags=flags)\n",
      "/opt/conda/lib/python3.7/site-packages/matplotlib/backends/backend_agg.py:211: RuntimeWarning: Glyph 12481 missing from current font.\n",
      "  font.set_text(s, 0.0, flags=flags)\n",
      "/opt/conda/lib/python3.7/site-packages/matplotlib/backends/backend_agg.py:211: RuntimeWarning: Glyph 12540 missing from current font.\n",
      "  font.set_text(s, 0.0, flags=flags)\n",
      "/opt/conda/lib/python3.7/site-packages/matplotlib/backends/backend_agg.py:211: RuntimeWarning: Glyph 12474 missing from current font.\n",
      "  font.set_text(s, 0.0, flags=flags)\n",
      "/opt/conda/lib/python3.7/site-packages/matplotlib/backends/backend_agg.py:211: RuntimeWarning: Glyph 27833 missing from current font.\n",
      "  font.set_text(s, 0.0, flags=flags)\n",
      "/opt/conda/lib/python3.7/site-packages/matplotlib/backends/backend_agg.py:211: RuntimeWarning: Glyph 25562 missing from current font.\n",
      "  font.set_text(s, 0.0, flags=flags)\n",
      "/opt/conda/lib/python3.7/site-packages/matplotlib/backends/backend_agg.py:211: RuntimeWarning: Glyph 12370 missing from current font.\n",
      "  font.set_text(s, 0.0, flags=flags)\n",
      "/opt/conda/lib/python3.7/site-packages/matplotlib/backends/backend_agg.py:211: RuntimeWarning: Glyph 12502 missing from current font.\n",
      "  font.set_text(s, 0.0, flags=flags)\n",
      "/opt/conda/lib/python3.7/site-packages/matplotlib/backends/backend_agg.py:211: RuntimeWarning: Glyph 12483 missing from current font.\n",
      "  font.set_text(s, 0.0, flags=flags)\n",
      "/opt/conda/lib/python3.7/site-packages/matplotlib/backends/backend_agg.py:211: RuntimeWarning: Glyph 12467 missing from current font.\n",
      "  font.set_text(s, 0.0, flags=flags)\n",
      "/opt/conda/lib/python3.7/site-packages/matplotlib/backends/backend_agg.py:211: RuntimeWarning: Glyph 30333 missing from current font.\n",
      "  font.set_text(s, 0.0, flags=flags)\n",
      "/opt/conda/lib/python3.7/site-packages/matplotlib/backends/backend_agg.py:211: RuntimeWarning: Glyph 12527 missing from current font.\n",
      "  font.set_text(s, 0.0, flags=flags)\n",
      "/opt/conda/lib/python3.7/site-packages/matplotlib/backends/backend_agg.py:211: RuntimeWarning: Glyph 12452 missing from current font.\n",
      "  font.set_text(s, 0.0, flags=flags)\n",
      "/opt/conda/lib/python3.7/site-packages/matplotlib/backends/backend_agg.py:211: RuntimeWarning: Glyph 12531 missing from current font.\n",
      "  font.set_text(s, 0.0, flags=flags)\n",
      "/opt/conda/lib/python3.7/site-packages/matplotlib/backends/backend_agg.py:211: RuntimeWarning: Glyph 12458 missing from current font.\n",
      "  font.set_text(s, 0.0, flags=flags)\n",
      "/opt/conda/lib/python3.7/site-packages/matplotlib/backends/backend_agg.py:211: RuntimeWarning: Glyph 12496 missing from current font.\n",
      "  font.set_text(s, 0.0, flags=flags)\n",
      "/opt/conda/lib/python3.7/site-packages/matplotlib/backends/backend_agg.py:211: RuntimeWarning: Glyph 12521 missing from current font.\n",
      "  font.set_text(s, 0.0, flags=flags)\n",
      "/opt/conda/lib/python3.7/site-packages/matplotlib/backends/backend_agg.py:211: RuntimeWarning: Glyph 34180 missing from current font.\n",
      "  font.set_text(s, 0.0, flags=flags)\n",
      "/opt/conda/lib/python3.7/site-packages/matplotlib/backends/backend_agg.py:211: RuntimeWarning: Glyph 35997 missing from current font.\n",
      "  font.set_text(s, 0.0, flags=flags)\n",
      "/opt/conda/lib/python3.7/site-packages/matplotlib/backends/backend_agg.py:211: RuntimeWarning: Glyph 21106 missing from current font.\n",
      "  font.set_text(s, 0.0, flags=flags)\n",
      "/opt/conda/lib/python3.7/site-packages/matplotlib/backends/backend_agg.py:211: RuntimeWarning: Glyph 21066 missing from current font.\n",
      "  font.set_text(s, 0.0, flags=flags)\n",
      "/opt/conda/lib/python3.7/site-packages/matplotlib/backends/backend_agg.py:211: RuntimeWarning: Glyph 31680 missing from current font.\n",
      "  font.set_text(s, 0.0, flags=flags)\n",
      "/opt/conda/lib/python3.7/site-packages/matplotlib/backends/backend_agg.py:211: RuntimeWarning: Glyph 12456 missing from current font.\n",
      "  font.set_text(s, 0.0, flags=flags)\n",
      "/opt/conda/lib/python3.7/site-packages/matplotlib/backends/backend_agg.py:211: RuntimeWarning: Glyph 12300 missing from current font.\n",
      "  font.set_text(s, 0.0, flags=flags)\n",
      "/opt/conda/lib/python3.7/site-packages/matplotlib/backends/backend_agg.py:211: RuntimeWarning: Glyph 12301 missing from current font.\n",
      "  font.set_text(s, 0.0, flags=flags)\n",
      "/opt/conda/lib/python3.7/site-packages/matplotlib/backends/backend_agg.py:211: RuntimeWarning: Glyph 12500 missing from current font.\n",
      "  font.set_text(s, 0.0, flags=flags)\n",
      "/opt/conda/lib/python3.7/site-packages/matplotlib/backends/backend_agg.py:211: RuntimeWarning: Glyph 12470 missing from current font.\n",
      "  font.set_text(s, 0.0, flags=flags)\n",
      "/opt/conda/lib/python3.7/site-packages/matplotlib/backends/backend_agg.py:211: RuntimeWarning: Glyph 29992 missing from current font.\n",
      "  font.set_text(s, 0.0, flags=flags)\n",
      "/opt/conda/lib/python3.7/site-packages/matplotlib/backends/backend_agg.py:211: RuntimeWarning: Glyph 12372 missing from current font.\n",
      "  font.set_text(s, 0.0, flags=flags)\n",
      "/opt/conda/lib/python3.7/site-packages/matplotlib/backends/backend_agg.py:211: RuntimeWarning: Glyph 12412 missing from current font.\n",
      "  font.set_text(s, 0.0, flags=flags)\n",
      "/opt/conda/lib/python3.7/site-packages/matplotlib/backends/backend_agg.py:211: RuntimeWarning: Glyph 22266 missing from current font.\n",
      "  font.set_text(s, 0.0, flags=flags)\n",
      "/opt/conda/lib/python3.7/site-packages/matplotlib/backends/backend_agg.py:211: RuntimeWarning: Glyph 24418 missing from current font.\n",
      "  font.set_text(s, 0.0, flags=flags)\n",
      "/opt/conda/lib/python3.7/site-packages/matplotlib/backends/backend_agg.py:211: RuntimeWarning: Glyph 12503 missing from current font.\n",
      "  font.set_text(s, 0.0, flags=flags)\n",
      "/opt/conda/lib/python3.7/site-packages/matplotlib/backends/backend_agg.py:211: RuntimeWarning: Glyph 32032 missing from current font.\n",
      "  font.set_text(s, 0.0, flags=flags)\n",
      "/opt/conda/lib/python3.7/site-packages/matplotlib/backends/backend_agg.py:211: RuntimeWarning: Glyph 12464 missing from current font.\n",
      "  font.set_text(s, 0.0, flags=flags)\n",
      "/opt/conda/lib/python3.7/site-packages/matplotlib/backends/backend_agg.py:211: RuntimeWarning: Glyph 12450 missing from current font.\n",
      "  font.set_text(s, 0.0, flags=flags)\n",
      "/opt/conda/lib/python3.7/site-packages/matplotlib/backends/backend_agg.py:211: RuntimeWarning: Glyph 12497 missing from current font.\n",
      "  font.set_text(s, 0.0, flags=flags)\n",
      "/opt/conda/lib/python3.7/site-packages/matplotlib/backends/backend_agg.py:211: RuntimeWarning: Glyph 12460 missing from current font.\n",
      "  font.set_text(s, 0.0, flags=flags)\n",
      "/opt/conda/lib/python3.7/site-packages/matplotlib/backends/backend_agg.py:211: RuntimeWarning: Glyph 12418 missing from current font.\n",
      "  font.set_text(s, 0.0, flags=flags)\n",
      "/opt/conda/lib/python3.7/site-packages/matplotlib/backends/backend_agg.py:211: RuntimeWarning: Glyph 12488 missing from current font.\n",
      "  font.set_text(s, 0.0, flags=flags)\n",
      "/opt/conda/lib/python3.7/site-packages/matplotlib/backends/backend_agg.py:211: RuntimeWarning: Glyph 12510 missing from current font.\n",
      "  font.set_text(s, 0.0, flags=flags)\n",
      "/opt/conda/lib/python3.7/site-packages/matplotlib/backends/backend_agg.py:211: RuntimeWarning: Glyph 12363 missing from current font.\n",
      "  font.set_text(s, 0.0, flags=flags)\n",
      "/opt/conda/lib/python3.7/site-packages/matplotlib/backends/backend_agg.py:211: RuntimeWarning: Glyph 12385 missing from current font.\n",
      "  font.set_text(s, 0.0, flags=flags)\n",
      "/opt/conda/lib/python3.7/site-packages/matplotlib/backends/backend_agg.py:211: RuntimeWarning: Glyph 12419 missing from current font.\n",
      "  font.set_text(s, 0.0, flags=flags)\n",
      "/opt/conda/lib/python3.7/site-packages/matplotlib/backends/backend_agg.py:211: RuntimeWarning: Glyph 12466 missing from current font.\n",
      "  font.set_text(s, 0.0, flags=flags)\n",
      "/opt/conda/lib/python3.7/site-packages/matplotlib/backends/backend_agg.py:211: RuntimeWarning: Glyph 12486 missing from current font.\n",
      "  font.set_text(s, 0.0, flags=flags)\n",
      "/opt/conda/lib/python3.7/site-packages/matplotlib/backends/backend_agg.py:211: RuntimeWarning: Glyph 12451 missing from current font.\n",
      "  font.set_text(s, 0.0, flags=flags)\n",
      "/opt/conda/lib/python3.7/site-packages/matplotlib/backends/backend_agg.py:211: RuntimeWarning: Glyph 29983 missing from current font.\n",
      "  font.set_text(s, 0.0, flags=flags)\n",
      "/opt/conda/lib/python3.7/site-packages/matplotlib/backends/backend_agg.py:211: RuntimeWarning: Glyph 12463 missing from current font.\n",
      "  font.set_text(s, 0.0, flags=flags)\n",
      "/opt/conda/lib/python3.7/site-packages/matplotlib/backends/backend_agg.py:211: RuntimeWarning: Glyph 12512 missing from current font.\n",
      "  font.set_text(s, 0.0, flags=flags)\n",
      "/opt/conda/lib/python3.7/site-packages/matplotlib/backends/backend_agg.py:211: RuntimeWarning: Glyph 20154 missing from current font.\n",
      "  font.set_text(s, 0.0, flags=flags)\n",
      "/opt/conda/lib/python3.7/site-packages/matplotlib/backends/backend_agg.py:211: RuntimeWarning: Glyph 12520 missing from current font.\n",
      "  font.set_text(s, 0.0, flags=flags)\n",
      "/opt/conda/lib/python3.7/site-packages/matplotlib/backends/backend_agg.py:211: RuntimeWarning: Glyph 12493 missing from current font.\n",
      "  font.set_text(s, 0.0, flags=flags)\n",
      "/opt/conda/lib/python3.7/site-packages/matplotlib/backends/backend_agg.py:211: RuntimeWarning: Glyph 12459 missing from current font.\n",
      "  font.set_text(s, 0.0, flags=flags)\n",
      "/opt/conda/lib/python3.7/site-packages/matplotlib/backends/backend_agg.py:211: RuntimeWarning: Glyph 31859 missing from current font.\n",
      "  font.set_text(s, 0.0, flags=flags)\n",
      "/opt/conda/lib/python3.7/site-packages/matplotlib/backends/backend_agg.py:211: RuntimeWarning: Glyph 35910 missing from current font.\n",
      "  font.set_text(s, 0.0, flags=flags)\n",
      "/opt/conda/lib/python3.7/site-packages/matplotlib/backends/backend_agg.py:211: RuntimeWarning: Glyph 26495 missing from current font.\n",
      "  font.set_text(s, 0.0, flags=flags)\n",
      "/opt/conda/lib/python3.7/site-packages/matplotlib/backends/backend_agg.py:211: RuntimeWarning: Glyph 37284 missing from current font.\n",
      "  font.set_text(s, 0.0, flags=flags)\n",
      "/opt/conda/lib/python3.7/site-packages/matplotlib/backends/backend_agg.py:211: RuntimeWarning: Glyph 12489 missing from current font.\n",
      "  font.set_text(s, 0.0, flags=flags)\n",
      "/opt/conda/lib/python3.7/site-packages/matplotlib/backends/backend_agg.py:211: RuntimeWarning: Glyph 12471 missing from current font.\n",
      "  font.set_text(s, 0.0, flags=flags)\n",
      "/opt/conda/lib/python3.7/site-packages/matplotlib/backends/backend_agg.py:211: RuntimeWarning: Glyph 12395 missing from current font.\n",
      "  font.set_text(s, 0.0, flags=flags)\n",
      "/opt/conda/lib/python3.7/site-packages/matplotlib/backends/backend_agg.py:211: RuntimeWarning: Glyph 12425 missing from current font.\n",
      "  font.set_text(s, 0.0, flags=flags)\n",
      "/opt/conda/lib/python3.7/site-packages/matplotlib/backends/backend_agg.py:211: RuntimeWarning: Glyph 38982 missing from current font.\n",
      "  font.set_text(s, 0.0, flags=flags)\n",
      "/opt/conda/lib/python3.7/site-packages/matplotlib/backends/backend_agg.py:211: RuntimeWarning: Glyph 31890 missing from current font.\n",
      "  font.set_text(s, 0.0, flags=flags)\n",
      "/opt/conda/lib/python3.7/site-packages/matplotlib/backends/backend_agg.py:211: RuntimeWarning: Glyph 12381 missing from current font.\n",
      "  font.set_text(s, 0.0, flags=flags)\n",
      "/opt/conda/lib/python3.7/site-packages/matplotlib/backends/backend_agg.py:211: RuntimeWarning: Glyph 28342 missing from current font.\n",
      "  font.set_text(s, 0.0, flags=flags)\n",
      "/opt/conda/lib/python3.7/site-packages/matplotlib/backends/backend_agg.py:211: RuntimeWarning: Glyph 21365 missing from current font.\n",
      "  font.set_text(s, 0.0, flags=flags)\n",
      "/opt/conda/lib/python3.7/site-packages/matplotlib/backends/backend_agg.py:211: RuntimeWarning: Glyph 12367 missing from current font.\n",
      "  font.set_text(s, 0.0, flags=flags)\n",
      "/opt/conda/lib/python3.7/site-packages/matplotlib/backends/backend_agg.py:211: RuntimeWarning: Glyph 12417 missing from current font.\n",
      "  font.set_text(s, 0.0, flags=flags)\n",
      "/opt/conda/lib/python3.7/site-packages/matplotlib/backends/backend_agg.py:211: RuntimeWarning: Glyph 26408 missing from current font.\n",
      "  font.set_text(s, 0.0, flags=flags)\n",
      "/opt/conda/lib/python3.7/site-packages/matplotlib/backends/backend_agg.py:211: RuntimeWarning: Glyph 32191 missing from current font.\n",
      "  font.set_text(s, 0.0, flags=flags)\n",
      "/opt/conda/lib/python3.7/site-packages/matplotlib/backends/backend_agg.py:211: RuntimeWarning: Glyph 33104 missing from current font.\n",
      "  font.set_text(s, 0.0, flags=flags)\n",
      "/opt/conda/lib/python3.7/site-packages/matplotlib/backends/backend_agg.py:211: RuntimeWarning: Glyph 19979 missing from current font.\n",
      "  font.set_text(s, 0.0, flags=flags)\n",
      "/opt/conda/lib/python3.7/site-packages/matplotlib/backends/backend_agg.py:211: RuntimeWarning: Glyph 21619 missing from current font.\n",
      "  font.set_text(s, 0.0, flags=flags)\n",
      "/opt/conda/lib/python3.7/site-packages/matplotlib/backends/backend_agg.py:211: RuntimeWarning: Glyph 29038 missing from current font.\n",
      "  font.set_text(s, 0.0, flags=flags)\n",
      "/opt/conda/lib/python3.7/site-packages/matplotlib/backends/backend_agg.py:211: RuntimeWarning: Glyph 27713 missing from current font.\n",
      "  font.set_text(s, 0.0, flags=flags)\n",
      "/opt/conda/lib/python3.7/site-packages/matplotlib/backends/backend_agg.py:211: RuntimeWarning: Glyph 22823 missing from current font.\n",
      "  font.set_text(s, 0.0, flags=flags)\n",
      "/opt/conda/lib/python3.7/site-packages/matplotlib/backends/backend_agg.py:211: RuntimeWarning: Glyph 26681 missing from current font.\n",
      "  font.set_text(s, 0.0, flags=flags)\n",
      "/opt/conda/lib/python3.7/site-packages/matplotlib/backends/backend_agg.py:211: RuntimeWarning: Glyph 29275 missing from current font.\n",
      "  font.set_text(s, 0.0, flags=flags)\n",
      "/opt/conda/lib/python3.7/site-packages/matplotlib/backends/backend_agg.py:211: RuntimeWarning: Glyph 20083 missing from current font.\n",
      "  font.set_text(s, 0.0, flags=flags)\n",
      "/opt/conda/lib/python3.7/site-packages/matplotlib/backends/backend_agg.py:211: RuntimeWarning: Glyph 12431 missing from current font.\n",
      "  font.set_text(s, 0.0, flags=flags)\n",
      "/opt/conda/lib/python3.7/site-packages/matplotlib/backends/backend_agg.py:211: RuntimeWarning: Glyph 12379 missing from current font.\n",
      "  font.set_text(s, 0.0, flags=flags)\n",
      "/opt/conda/lib/python3.7/site-packages/matplotlib/backends/backend_agg.py:211: RuntimeWarning: Glyph 35519 missing from current font.\n",
      "  font.set_text(s, 0.0, flags=flags)\n",
      "/opt/conda/lib/python3.7/site-packages/matplotlib/backends/backend_agg.py:211: RuntimeWarning: Glyph 12394 missing from current font.\n",
      "  font.set_text(s, 0.0, flags=flags)\n",
      "/opt/conda/lib/python3.7/site-packages/matplotlib/backends/backend_agg.py:211: RuntimeWarning: Glyph 12523 missing from current font.\n",
      "  font.set_text(s, 0.0, flags=flags)\n",
      "/opt/conda/lib/python3.7/site-packages/matplotlib/backends/backend_agg.py:211: RuntimeWarning: Glyph 36196 missing from current font.\n",
      "  font.set_text(s, 0.0, flags=flags)\n",
      "/opt/conda/lib/python3.7/site-packages/matplotlib/backends/backend_agg.py:211: RuntimeWarning: Glyph 21776 missing from current font.\n",
      "  font.set_text(s, 0.0, flags=flags)\n",
      "/opt/conda/lib/python3.7/site-packages/matplotlib/backends/backend_agg.py:211: RuntimeWarning: Glyph 36763 missing from current font.\n",
      "  font.set_text(s, 0.0, flags=flags)\n",
      "/opt/conda/lib/python3.7/site-packages/matplotlib/backends/backend_agg.py:211: RuntimeWarning: Glyph 23376 missing from current font.\n",
      "  font.set_text(s, 0.0, flags=flags)\n",
      "/opt/conda/lib/python3.7/site-packages/matplotlib/backends/backend_agg.py:211: RuntimeWarning: Glyph 28201 missing from current font.\n",
      "  font.set_text(s, 0.0, flags=flags)\n",
      "/opt/conda/lib/python3.7/site-packages/matplotlib/backends/backend_agg.py:211: RuntimeWarning: Glyph 39151 missing from current font.\n",
      "  font.set_text(s, 0.0, flags=flags)\n",
      "/opt/conda/lib/python3.7/site-packages/matplotlib/backends/backend_agg.py:211: RuntimeWarning: Glyph 12421 missing from current font.\n",
      "  font.set_text(s, 0.0, flags=flags)\n",
      "/opt/conda/lib/python3.7/site-packages/matplotlib/backends/backend_agg.py:211: RuntimeWarning: Glyph 37218 missing from current font.\n",
      "  font.set_text(s, 0.0, flags=flags)\n",
      "/opt/conda/lib/python3.7/site-packages/matplotlib/backends/backend_agg.py:211: RuntimeWarning: Glyph 40614 missing from current font.\n",
      "  font.set_text(s, 0.0, flags=flags)\n",
      "/opt/conda/lib/python3.7/site-packages/matplotlib/backends/backend_agg.py:211: RuntimeWarning: Glyph 30722 missing from current font.\n",
      "  font.set_text(s, 0.0, flags=flags)\n",
      "/opt/conda/lib/python3.7/site-packages/matplotlib/backends/backend_agg.py:211: RuntimeWarning: Glyph 31958 missing from current font.\n",
      "  font.set_text(s, 0.0, flags=flags)\n",
      "/opt/conda/lib/python3.7/site-packages/matplotlib/backends/backend_agg.py:211: RuntimeWarning: Glyph 29255 missing from current font.\n",
      "  font.set_text(s, 0.0, flags=flags)\n",
      "/opt/conda/lib/python3.7/site-packages/matplotlib/backends/backend_agg.py:211: RuntimeWarning: Glyph 26647 missing from current font.\n",
      "  font.set_text(s, 0.0, flags=flags)\n",
      "/opt/conda/lib/python3.7/site-packages/matplotlib/backends/backend_agg.py:211: RuntimeWarning: Glyph 29577 missing from current font.\n",
      "  font.set_text(s, 0.0, flags=flags)\n",
      "/opt/conda/lib/python3.7/site-packages/matplotlib/backends/backend_agg.py:211: RuntimeWarning: Glyph 37202 missing from current font.\n",
      "  font.set_text(s, 0.0, flags=flags)\n",
      "/opt/conda/lib/python3.7/site-packages/matplotlib/backends/backend_agg.py:211: RuntimeWarning: Glyph 12422 missing from current font.\n",
      "  font.set_text(s, 0.0, flags=flags)\n",
      "/opt/conda/lib/python3.7/site-packages/matplotlib/backends/backend_agg.py:211: RuntimeWarning: Glyph 12469 missing from current font.\n",
      "  font.set_text(s, 0.0, flags=flags)\n",
      "/opt/conda/lib/python3.7/site-packages/matplotlib/backends/backend_agg.py:211: RuntimeWarning: Glyph 12480 missing from current font.\n",
      "  font.set_text(s, 0.0, flags=flags)\n",
      "/opt/conda/lib/python3.7/site-packages/matplotlib/backends/backend_agg.py:211: RuntimeWarning: Glyph 22633 missing from current font.\n",
      "  font.set_text(s, 0.0, flags=flags)\n",
      "/opt/conda/lib/python3.7/site-packages/matplotlib/backends/backend_agg.py:180: RuntimeWarning: Glyph 35930 missing from current font.\n",
      "  font.set_text(s, 0, flags=flags)\n",
      "/opt/conda/lib/python3.7/site-packages/matplotlib/backends/backend_agg.py:180: RuntimeWarning: Glyph 12371 missing from current font.\n",
      "  font.set_text(s, 0, flags=flags)\n",
      "/opt/conda/lib/python3.7/site-packages/matplotlib/backends/backend_agg.py:180: RuntimeWarning: Glyph 12414 missing from current font.\n",
      "  font.set_text(s, 0, flags=flags)\n",
      "/opt/conda/lib/python3.7/site-packages/matplotlib/backends/backend_agg.py:180: RuntimeWarning: Glyph 20999 missing from current font.\n",
      "  font.set_text(s, 0, flags=flags)\n",
      "/opt/conda/lib/python3.7/site-packages/matplotlib/backends/backend_agg.py:180: RuntimeWarning: Glyph 12428 missing from current font.\n",
      "  font.set_text(s, 0, flags=flags)\n",
      "/opt/conda/lib/python3.7/site-packages/matplotlib/backends/backend_agg.py:180: RuntimeWarning: Glyph 32905 missing from current font.\n",
      "  font.set_text(s, 0, flags=flags)\n",
      "/opt/conda/lib/python3.7/site-packages/matplotlib/backends/backend_agg.py:180: RuntimeWarning: Glyph 26448 missing from current font.\n",
      "  font.set_text(s, 0, flags=flags)\n",
      "/opt/conda/lib/python3.7/site-packages/matplotlib/backends/backend_agg.py:180: RuntimeWarning: Glyph 26009 missing from current font.\n",
      "  font.set_text(s, 0, flags=flags)\n",
      "/opt/conda/lib/python3.7/site-packages/matplotlib/backends/backend_agg.py:180: RuntimeWarning: Glyph 65288 missing from current font.\n",
      "  font.set_text(s, 0, flags=flags)\n",
      "/opt/conda/lib/python3.7/site-packages/matplotlib/backends/backend_agg.py:180: RuntimeWarning: Glyph 20316 missing from current font.\n",
      "  font.set_text(s, 0, flags=flags)\n",
      "/opt/conda/lib/python3.7/site-packages/matplotlib/backends/backend_agg.py:180: RuntimeWarning: Glyph 12426 missing from current font.\n",
      "  font.set_text(s, 0, flags=flags)\n",
      "/opt/conda/lib/python3.7/site-packages/matplotlib/backends/backend_agg.py:180: RuntimeWarning: Glyph 12420 missing from current font.\n",
      "  font.set_text(s, 0, flags=flags)\n",
      "/opt/conda/lib/python3.7/site-packages/matplotlib/backends/backend_agg.py:180: RuntimeWarning: Glyph 12377 missing from current font.\n",
      "  font.set_text(s, 0, flags=flags)\n",
      "/opt/conda/lib/python3.7/site-packages/matplotlib/backends/backend_agg.py:180: RuntimeWarning: Glyph 12356 missing from current font.\n",
      "  font.set_text(s, 0, flags=flags)\n",
      "/opt/conda/lib/python3.7/site-packages/matplotlib/backends/backend_agg.py:180: RuntimeWarning: Glyph 20998 missing from current font.\n",
      "  font.set_text(s, 0, flags=flags)\n",
      "/opt/conda/lib/python3.7/site-packages/matplotlib/backends/backend_agg.py:180: RuntimeWarning: Glyph 37327 missing from current font.\n",
      "  font.set_text(s, 0, flags=flags)\n",
      "/opt/conda/lib/python3.7/site-packages/matplotlib/backends/backend_agg.py:180: RuntimeWarning: Glyph 65289 missing from current font.\n",
      "  font.set_text(s, 0, flags=flags)\n",
      "/opt/conda/lib/python3.7/site-packages/matplotlib/backends/backend_agg.py:180: RuntimeWarning: Glyph 19975 missing from current font.\n",
      "  font.set_text(s, 0, flags=flags)\n",
      "/opt/conda/lib/python3.7/site-packages/matplotlib/backends/backend_agg.py:180: RuntimeWarning: Glyph 33021 missing from current font.\n",
      "  font.set_text(s, 0, flags=flags)\n",
      "/opt/conda/lib/python3.7/site-packages/matplotlib/backends/backend_agg.py:180: RuntimeWarning: Glyph 12397 missing from current font.\n",
      "  font.set_text(s, 0, flags=flags)\n",
      "/opt/conda/lib/python3.7/site-packages/matplotlib/backends/backend_agg.py:180: RuntimeWarning: Glyph 12366 missing from current font.\n",
      "  font.set_text(s, 0, flags=flags)\n",
      "/opt/conda/lib/python3.7/site-packages/matplotlib/backends/backend_agg.py:180: RuntimeWarning: Glyph 12398 missing from current font.\n",
      "  font.set_text(s, 0, flags=flags)\n",
      "/opt/conda/lib/python3.7/site-packages/matplotlib/backends/backend_agg.py:180: RuntimeWarning: Glyph 23567 missing from current font.\n",
      "  font.set_text(s, 0, flags=flags)\n",
      "/opt/conda/lib/python3.7/site-packages/matplotlib/backends/backend_agg.py:180: RuntimeWarning: Glyph 21475 missing from current font.\n",
      "  font.set_text(s, 0, flags=flags)\n",
      "/opt/conda/lib/python3.7/site-packages/matplotlib/backends/backend_agg.py:180: RuntimeWarning: Glyph 65378 missing from current font.\n",
      "  font.set_text(s, 0, flags=flags)\n",
      "/opt/conda/lib/python3.7/site-packages/matplotlib/backends/backend_agg.py:180: RuntimeWarning: Glyph 26041 missing from current font.\n",
      "  font.set_text(s, 0, flags=flags)\n",
      "/opt/conda/lib/python3.7/site-packages/matplotlib/backends/backend_agg.py:180: RuntimeWarning: Glyph 65379 missing from current font.\n",
      "  font.set_text(s, 0, flags=flags)\n",
      "/opt/conda/lib/python3.7/site-packages/matplotlib/backends/backend_agg.py:180: RuntimeWarning: Glyph 21442 missing from current font.\n",
      "  font.set_text(s, 0, flags=flags)\n",
      "/opt/conda/lib/python3.7/site-packages/matplotlib/backends/backend_agg.py:180: RuntimeWarning: Glyph 29031 missing from current font.\n",
      "  font.set_text(s, 0, flags=flags)\n",
      "/opt/conda/lib/python3.7/site-packages/matplotlib/backends/backend_agg.py:180: RuntimeWarning: Glyph 31895 missing from current font.\n",
      "  font.set_text(s, 0, flags=flags)\n",
      "/opt/conda/lib/python3.7/site-packages/matplotlib/backends/backend_agg.py:180: RuntimeWarning: Glyph 12403 missing from current font.\n",
      "  font.set_text(s, 0, flags=flags)\n",
      "/opt/conda/lib/python3.7/site-packages/matplotlib/backends/backend_agg.py:180: RuntimeWarning: Glyph 12365 missing from current font.\n",
      "  font.set_text(s, 0, flags=flags)\n",
      "/opt/conda/lib/python3.7/site-packages/matplotlib/backends/backend_agg.py:180: RuntimeWarning: Glyph 40658 missing from current font.\n",
      "  font.set_text(s, 0, flags=flags)\n",
      "/opt/conda/lib/python3.7/site-packages/matplotlib/backends/backend_agg.py:180: RuntimeWarning: Glyph 12375 missing from current font.\n",
      "  font.set_text(s, 0, flags=flags)\n",
      "/opt/conda/lib/python3.7/site-packages/matplotlib/backends/backend_agg.py:180: RuntimeWarning: Glyph 12423 missing from current font.\n",
      "  font.set_text(s, 0, flags=flags)\n",
      "/opt/conda/lib/python3.7/site-packages/matplotlib/backends/backend_agg.py:180: RuntimeWarning: Glyph 12358 missing from current font.\n",
      "  font.set_text(s, 0, flags=flags)\n",
      "/opt/conda/lib/python3.7/site-packages/matplotlib/backends/backend_agg.py:180: RuntimeWarning: Glyph 12524 missing from current font.\n",
      "  font.set_text(s, 0, flags=flags)\n",
      "/opt/conda/lib/python3.7/site-packages/matplotlib/backends/backend_agg.py:180: RuntimeWarning: Glyph 12479 missing from current font.\n",
      "  font.set_text(s, 0, flags=flags)\n",
      "/opt/conda/lib/python3.7/site-packages/matplotlib/backends/backend_agg.py:180: RuntimeWarning: Glyph 12473 missing from current font.\n",
      "  font.set_text(s, 0, flags=flags)\n",
      "/opt/conda/lib/python3.7/site-packages/matplotlib/backends/backend_agg.py:180: RuntimeWarning: Glyph 33865 missing from current font.\n",
      "  font.set_text(s, 0, flags=flags)\n",
      "/opt/conda/lib/python3.7/site-packages/matplotlib/backends/backend_agg.py:180: RuntimeWarning: Glyph 12383 missing from current font.\n",
      "  font.set_text(s, 0, flags=flags)\n",
      "/opt/conda/lib/python3.7/site-packages/matplotlib/backends/backend_agg.py:180: RuntimeWarning: Glyph 26494 missing from current font.\n",
      "  font.set_text(s, 0, flags=flags)\n",
      "/opt/conda/lib/python3.7/site-packages/matplotlib/backends/backend_agg.py:180: RuntimeWarning: Glyph 33756 missing from current font.\n",
      "  font.set_text(s, 0, flags=flags)\n",
      "/opt/conda/lib/python3.7/site-packages/matplotlib/backends/backend_agg.py:180: RuntimeWarning: Glyph 12411 missing from current font.\n",
      "  font.set_text(s, 0, flags=flags)\n",
      "/opt/conda/lib/python3.7/site-packages/matplotlib/backends/backend_agg.py:180: RuntimeWarning: Glyph 12435 missing from current font.\n",
      "  font.set_text(s, 0, flags=flags)\n",
      "/opt/conda/lib/python3.7/site-packages/matplotlib/backends/backend_agg.py:180: RuntimeWarning: Glyph 33609 missing from current font.\n",
      "  font.set_text(s, 0, flags=flags)\n",
      "/opt/conda/lib/python3.7/site-packages/matplotlib/backends/backend_agg.py:180: RuntimeWarning: Glyph 12461 missing from current font.\n",
      "  font.set_text(s, 0, flags=flags)\n",
      "/opt/conda/lib/python3.7/site-packages/matplotlib/backends/backend_agg.py:180: RuntimeWarning: Glyph 12515 missing from current font.\n",
      "  font.set_text(s, 0, flags=flags)\n",
      "/opt/conda/lib/python3.7/site-packages/matplotlib/backends/backend_agg.py:180: RuntimeWarning: Glyph 12505 missing from current font.\n",
      "  font.set_text(s, 0, flags=flags)\n",
      "/opt/conda/lib/python3.7/site-packages/matplotlib/backends/backend_agg.py:180: RuntimeWarning: Glyph 12484 missing from current font.\n",
      "  font.set_text(s, 0, flags=flags)\n",
      "/opt/conda/lib/python3.7/site-packages/matplotlib/backends/backend_agg.py:180: RuntimeWarning: Glyph 21512 missing from current font.\n",
      "  font.set_text(s, 0, flags=flags)\n",
      "/opt/conda/lib/python3.7/site-packages/matplotlib/backends/backend_agg.py:180: RuntimeWarning: Glyph 12364 missing from current font.\n",
      "  font.set_text(s, 0, flags=flags)\n",
      "/opt/conda/lib/python3.7/site-packages/matplotlib/backends/backend_agg.py:180: RuntimeWarning: Glyph 12415 missing from current font.\n",
      "  font.set_text(s, 0, flags=flags)\n",
      "/opt/conda/lib/python3.7/site-packages/matplotlib/backends/backend_agg.py:180: RuntimeWarning: Glyph 12376 missing from current font.\n",
      "  font.set_text(s, 0, flags=flags)\n",
      "/opt/conda/lib/python3.7/site-packages/matplotlib/backends/backend_agg.py:180: RuntimeWarning: Glyph 38738 missing from current font.\n",
      "  font.set_text(s, 0, flags=flags)\n",
      "/opt/conda/lib/python3.7/site-packages/matplotlib/backends/backend_agg.py:180: RuntimeWarning: Glyph 26775 missing from current font.\n",
      "  font.set_text(s, 0, flags=flags)\n",
      "/opt/conda/lib/python3.7/site-packages/matplotlib/backends/backend_agg.py:180: RuntimeWarning: Glyph 12396 missing from current font.\n",
      "  font.set_text(s, 0, flags=flags)\n",
      "/opt/conda/lib/python3.7/site-packages/matplotlib/backends/backend_agg.py:180: RuntimeWarning: Glyph 12373 missing from current font.\n",
      "  font.set_text(s, 0, flags=flags)\n",
      "/opt/conda/lib/python3.7/site-packages/matplotlib/backends/backend_agg.py:180: RuntimeWarning: Glyph 19977 missing from current font.\n",
      "  font.set_text(s, 0, flags=flags)\n",
      "/opt/conda/lib/python3.7/site-packages/matplotlib/backends/backend_agg.py:180: RuntimeWarning: Glyph 12388 missing from current font.\n",
      "  font.set_text(s, 0, flags=flags)\n",
      "/opt/conda/lib/python3.7/site-packages/matplotlib/backends/backend_agg.py:180: RuntimeWarning: Glyph 12360 missing from current font.\n",
      "  font.set_text(s, 0, flags=flags)\n",
      "/opt/conda/lib/python3.7/site-packages/matplotlib/backends/backend_agg.py:180: RuntimeWarning: Glyph 12384 missing from current font.\n",
      "  font.set_text(s, 0, flags=flags)\n",
      "/opt/conda/lib/python3.7/site-packages/matplotlib/backends/backend_agg.py:180: RuntimeWarning: Glyph 12369 missing from current font.\n",
      "  font.set_text(s, 0, flags=flags)\n",
      "/opt/conda/lib/python3.7/site-packages/matplotlib/backends/backend_agg.py:180: RuntimeWarning: Glyph 40335 missing from current font.\n",
      "  font.set_text(s, 0, flags=flags)\n",
      "/opt/conda/lib/python3.7/site-packages/matplotlib/backends/backend_agg.py:180: RuntimeWarning: Glyph 12402 missing from current font.\n",
      "  font.set_text(s, 0, flags=flags)\n",
      "/opt/conda/lib/python3.7/site-packages/matplotlib/backends/backend_agg.py:180: RuntimeWarning: Glyph 12475 missing from current font.\n",
      "  font.set_text(s, 0, flags=flags)\n",
      "/opt/conda/lib/python3.7/site-packages/matplotlib/backends/backend_agg.py:180: RuntimeWarning: Glyph 12525 missing from current font.\n",
      "  font.set_text(s, 0, flags=flags)\n",
      "/opt/conda/lib/python3.7/site-packages/matplotlib/backends/backend_agg.py:180: RuntimeWarning: Glyph 12522 missing from current font.\n",
      "  font.set_text(s, 0, flags=flags)\n",
      "/opt/conda/lib/python3.7/site-packages/matplotlib/backends/backend_agg.py:180: RuntimeWarning: Glyph 31881 missing from current font.\n",
      "  font.set_text(s, 0, flags=flags)\n",
      "/opt/conda/lib/python3.7/site-packages/matplotlib/backends/backend_agg.py:180: RuntimeWarning: Glyph 12481 missing from current font.\n",
      "  font.set_text(s, 0, flags=flags)\n",
      "/opt/conda/lib/python3.7/site-packages/matplotlib/backends/backend_agg.py:180: RuntimeWarning: Glyph 12540 missing from current font.\n",
      "  font.set_text(s, 0, flags=flags)\n",
      "/opt/conda/lib/python3.7/site-packages/matplotlib/backends/backend_agg.py:180: RuntimeWarning: Glyph 12474 missing from current font.\n",
      "  font.set_text(s, 0, flags=flags)\n",
      "/opt/conda/lib/python3.7/site-packages/matplotlib/backends/backend_agg.py:180: RuntimeWarning: Glyph 27833 missing from current font.\n",
      "  font.set_text(s, 0, flags=flags)\n",
      "/opt/conda/lib/python3.7/site-packages/matplotlib/backends/backend_agg.py:180: RuntimeWarning: Glyph 25562 missing from current font.\n",
      "  font.set_text(s, 0, flags=flags)\n",
      "/opt/conda/lib/python3.7/site-packages/matplotlib/backends/backend_agg.py:180: RuntimeWarning: Glyph 12370 missing from current font.\n",
      "  font.set_text(s, 0, flags=flags)\n",
      "/opt/conda/lib/python3.7/site-packages/matplotlib/backends/backend_agg.py:180: RuntimeWarning: Glyph 12502 missing from current font.\n",
      "  font.set_text(s, 0, flags=flags)\n",
      "/opt/conda/lib/python3.7/site-packages/matplotlib/backends/backend_agg.py:180: RuntimeWarning: Glyph 12483 missing from current font.\n",
      "  font.set_text(s, 0, flags=flags)\n",
      "/opt/conda/lib/python3.7/site-packages/matplotlib/backends/backend_agg.py:180: RuntimeWarning: Glyph 12467 missing from current font.\n",
      "  font.set_text(s, 0, flags=flags)\n",
      "/opt/conda/lib/python3.7/site-packages/matplotlib/backends/backend_agg.py:180: RuntimeWarning: Glyph 30333 missing from current font.\n",
      "  font.set_text(s, 0, flags=flags)\n",
      "/opt/conda/lib/python3.7/site-packages/matplotlib/backends/backend_agg.py:180: RuntimeWarning: Glyph 12527 missing from current font.\n",
      "  font.set_text(s, 0, flags=flags)\n",
      "/opt/conda/lib/python3.7/site-packages/matplotlib/backends/backend_agg.py:180: RuntimeWarning: Glyph 12452 missing from current font.\n",
      "  font.set_text(s, 0, flags=flags)\n",
      "/opt/conda/lib/python3.7/site-packages/matplotlib/backends/backend_agg.py:180: RuntimeWarning: Glyph 12531 missing from current font.\n",
      "  font.set_text(s, 0, flags=flags)\n",
      "/opt/conda/lib/python3.7/site-packages/matplotlib/backends/backend_agg.py:180: RuntimeWarning: Glyph 12458 missing from current font.\n",
      "  font.set_text(s, 0, flags=flags)\n",
      "/opt/conda/lib/python3.7/site-packages/matplotlib/backends/backend_agg.py:180: RuntimeWarning: Glyph 12496 missing from current font.\n",
      "  font.set_text(s, 0, flags=flags)\n",
      "/opt/conda/lib/python3.7/site-packages/matplotlib/backends/backend_agg.py:180: RuntimeWarning: Glyph 12521 missing from current font.\n",
      "  font.set_text(s, 0, flags=flags)\n",
      "/opt/conda/lib/python3.7/site-packages/matplotlib/backends/backend_agg.py:180: RuntimeWarning: Glyph 34180 missing from current font.\n",
      "  font.set_text(s, 0, flags=flags)\n",
      "/opt/conda/lib/python3.7/site-packages/matplotlib/backends/backend_agg.py:180: RuntimeWarning: Glyph 35997 missing from current font.\n",
      "  font.set_text(s, 0, flags=flags)\n",
      "/opt/conda/lib/python3.7/site-packages/matplotlib/backends/backend_agg.py:180: RuntimeWarning: Glyph 21106 missing from current font.\n",
      "  font.set_text(s, 0, flags=flags)\n",
      "/opt/conda/lib/python3.7/site-packages/matplotlib/backends/backend_agg.py:180: RuntimeWarning: Glyph 21066 missing from current font.\n",
      "  font.set_text(s, 0, flags=flags)\n",
      "/opt/conda/lib/python3.7/site-packages/matplotlib/backends/backend_agg.py:180: RuntimeWarning: Glyph 31680 missing from current font.\n",
      "  font.set_text(s, 0, flags=flags)\n",
      "/opt/conda/lib/python3.7/site-packages/matplotlib/backends/backend_agg.py:180: RuntimeWarning: Glyph 12456 missing from current font.\n",
      "  font.set_text(s, 0, flags=flags)\n",
      "/opt/conda/lib/python3.7/site-packages/matplotlib/backends/backend_agg.py:180: RuntimeWarning: Glyph 12300 missing from current font.\n",
      "  font.set_text(s, 0, flags=flags)\n",
      "/opt/conda/lib/python3.7/site-packages/matplotlib/backends/backend_agg.py:180: RuntimeWarning: Glyph 12301 missing from current font.\n",
      "  font.set_text(s, 0, flags=flags)\n",
      "/opt/conda/lib/python3.7/site-packages/matplotlib/backends/backend_agg.py:180: RuntimeWarning: Glyph 12500 missing from current font.\n",
      "  font.set_text(s, 0, flags=flags)\n",
      "/opt/conda/lib/python3.7/site-packages/matplotlib/backends/backend_agg.py:180: RuntimeWarning: Glyph 12470 missing from current font.\n",
      "  font.set_text(s, 0, flags=flags)\n",
      "/opt/conda/lib/python3.7/site-packages/matplotlib/backends/backend_agg.py:180: RuntimeWarning: Glyph 29992 missing from current font.\n",
      "  font.set_text(s, 0, flags=flags)\n",
      "/opt/conda/lib/python3.7/site-packages/matplotlib/backends/backend_agg.py:180: RuntimeWarning: Glyph 12372 missing from current font.\n",
      "  font.set_text(s, 0, flags=flags)\n",
      "/opt/conda/lib/python3.7/site-packages/matplotlib/backends/backend_agg.py:180: RuntimeWarning: Glyph 12412 missing from current font.\n",
      "  font.set_text(s, 0, flags=flags)\n",
      "/opt/conda/lib/python3.7/site-packages/matplotlib/backends/backend_agg.py:180: RuntimeWarning: Glyph 22266 missing from current font.\n",
      "  font.set_text(s, 0, flags=flags)\n",
      "/opt/conda/lib/python3.7/site-packages/matplotlib/backends/backend_agg.py:180: RuntimeWarning: Glyph 24418 missing from current font.\n",
      "  font.set_text(s, 0, flags=flags)\n",
      "/opt/conda/lib/python3.7/site-packages/matplotlib/backends/backend_agg.py:180: RuntimeWarning: Glyph 12503 missing from current font.\n",
      "  font.set_text(s, 0, flags=flags)\n",
      "/opt/conda/lib/python3.7/site-packages/matplotlib/backends/backend_agg.py:180: RuntimeWarning: Glyph 32032 missing from current font.\n",
      "  font.set_text(s, 0, flags=flags)\n",
      "/opt/conda/lib/python3.7/site-packages/matplotlib/backends/backend_agg.py:180: RuntimeWarning: Glyph 12464 missing from current font.\n",
      "  font.set_text(s, 0, flags=flags)\n",
      "/opt/conda/lib/python3.7/site-packages/matplotlib/backends/backend_agg.py:180: RuntimeWarning: Glyph 12450 missing from current font.\n",
      "  font.set_text(s, 0, flags=flags)\n",
      "/opt/conda/lib/python3.7/site-packages/matplotlib/backends/backend_agg.py:180: RuntimeWarning: Glyph 12497 missing from current font.\n",
      "  font.set_text(s, 0, flags=flags)\n",
      "/opt/conda/lib/python3.7/site-packages/matplotlib/backends/backend_agg.py:180: RuntimeWarning: Glyph 12460 missing from current font.\n",
      "  font.set_text(s, 0, flags=flags)\n",
      "/opt/conda/lib/python3.7/site-packages/matplotlib/backends/backend_agg.py:180: RuntimeWarning: Glyph 12418 missing from current font.\n",
      "  font.set_text(s, 0, flags=flags)\n",
      "/opt/conda/lib/python3.7/site-packages/matplotlib/backends/backend_agg.py:180: RuntimeWarning: Glyph 12488 missing from current font.\n",
      "  font.set_text(s, 0, flags=flags)\n",
      "/opt/conda/lib/python3.7/site-packages/matplotlib/backends/backend_agg.py:180: RuntimeWarning: Glyph 12510 missing from current font.\n",
      "  font.set_text(s, 0, flags=flags)\n",
      "/opt/conda/lib/python3.7/site-packages/matplotlib/backends/backend_agg.py:180: RuntimeWarning: Glyph 12363 missing from current font.\n",
      "  font.set_text(s, 0, flags=flags)\n",
      "/opt/conda/lib/python3.7/site-packages/matplotlib/backends/backend_agg.py:180: RuntimeWarning: Glyph 12385 missing from current font.\n",
      "  font.set_text(s, 0, flags=flags)\n",
      "/opt/conda/lib/python3.7/site-packages/matplotlib/backends/backend_agg.py:180: RuntimeWarning: Glyph 12419 missing from current font.\n",
      "  font.set_text(s, 0, flags=flags)\n",
      "/opt/conda/lib/python3.7/site-packages/matplotlib/backends/backend_agg.py:180: RuntimeWarning: Glyph 12466 missing from current font.\n",
      "  font.set_text(s, 0, flags=flags)\n",
      "/opt/conda/lib/python3.7/site-packages/matplotlib/backends/backend_agg.py:180: RuntimeWarning: Glyph 12486 missing from current font.\n",
      "  font.set_text(s, 0, flags=flags)\n",
      "/opt/conda/lib/python3.7/site-packages/matplotlib/backends/backend_agg.py:180: RuntimeWarning: Glyph 12451 missing from current font.\n",
      "  font.set_text(s, 0, flags=flags)\n",
      "/opt/conda/lib/python3.7/site-packages/matplotlib/backends/backend_agg.py:180: RuntimeWarning: Glyph 29983 missing from current font.\n",
      "  font.set_text(s, 0, flags=flags)\n",
      "/opt/conda/lib/python3.7/site-packages/matplotlib/backends/backend_agg.py:180: RuntimeWarning: Glyph 12463 missing from current font.\n",
      "  font.set_text(s, 0, flags=flags)\n",
      "/opt/conda/lib/python3.7/site-packages/matplotlib/backends/backend_agg.py:180: RuntimeWarning: Glyph 12512 missing from current font.\n",
      "  font.set_text(s, 0, flags=flags)\n",
      "/opt/conda/lib/python3.7/site-packages/matplotlib/backends/backend_agg.py:180: RuntimeWarning: Glyph 20154 missing from current font.\n",
      "  font.set_text(s, 0, flags=flags)\n",
      "/opt/conda/lib/python3.7/site-packages/matplotlib/backends/backend_agg.py:180: RuntimeWarning: Glyph 12520 missing from current font.\n",
      "  font.set_text(s, 0, flags=flags)\n",
      "/opt/conda/lib/python3.7/site-packages/matplotlib/backends/backend_agg.py:180: RuntimeWarning: Glyph 12493 missing from current font.\n",
      "  font.set_text(s, 0, flags=flags)\n",
      "/opt/conda/lib/python3.7/site-packages/matplotlib/backends/backend_agg.py:180: RuntimeWarning: Glyph 12459 missing from current font.\n",
      "  font.set_text(s, 0, flags=flags)\n",
      "/opt/conda/lib/python3.7/site-packages/matplotlib/backends/backend_agg.py:176: RuntimeWarning: Glyph 31859 missing from current font.\n",
      "  font.load_char(ord(s), flags=flags)\n",
      "/opt/conda/lib/python3.7/site-packages/matplotlib/backends/backend_agg.py:180: RuntimeWarning: Glyph 35910 missing from current font.\n",
      "  font.set_text(s, 0, flags=flags)\n",
      "/opt/conda/lib/python3.7/site-packages/matplotlib/backends/backend_agg.py:180: RuntimeWarning: Glyph 26495 missing from current font.\n",
      "  font.set_text(s, 0, flags=flags)\n",
      "/opt/conda/lib/python3.7/site-packages/matplotlib/backends/backend_agg.py:180: RuntimeWarning: Glyph 37284 missing from current font.\n",
      "  font.set_text(s, 0, flags=flags)\n",
      "/opt/conda/lib/python3.7/site-packages/matplotlib/backends/backend_agg.py:180: RuntimeWarning: Glyph 12489 missing from current font.\n",
      "  font.set_text(s, 0, flags=flags)\n",
      "/opt/conda/lib/python3.7/site-packages/matplotlib/backends/backend_agg.py:180: RuntimeWarning: Glyph 12471 missing from current font.\n",
      "  font.set_text(s, 0, flags=flags)\n",
      "/opt/conda/lib/python3.7/site-packages/matplotlib/backends/backend_agg.py:180: RuntimeWarning: Glyph 12395 missing from current font.\n",
      "  font.set_text(s, 0, flags=flags)\n",
      "/opt/conda/lib/python3.7/site-packages/matplotlib/backends/backend_agg.py:180: RuntimeWarning: Glyph 12425 missing from current font.\n",
      "  font.set_text(s, 0, flags=flags)\n",
      "/opt/conda/lib/python3.7/site-packages/matplotlib/backends/backend_agg.py:180: RuntimeWarning: Glyph 38982 missing from current font.\n",
      "  font.set_text(s, 0, flags=flags)\n",
      "/opt/conda/lib/python3.7/site-packages/matplotlib/backends/backend_agg.py:180: RuntimeWarning: Glyph 31890 missing from current font.\n",
      "  font.set_text(s, 0, flags=flags)\n",
      "/opt/conda/lib/python3.7/site-packages/matplotlib/backends/backend_agg.py:180: RuntimeWarning: Glyph 12381 missing from current font.\n",
      "  font.set_text(s, 0, flags=flags)\n",
      "/opt/conda/lib/python3.7/site-packages/matplotlib/backends/backend_agg.py:180: RuntimeWarning: Glyph 28342 missing from current font.\n",
      "  font.set_text(s, 0, flags=flags)\n",
      "/opt/conda/lib/python3.7/site-packages/matplotlib/backends/backend_agg.py:180: RuntimeWarning: Glyph 21365 missing from current font.\n",
      "  font.set_text(s, 0, flags=flags)\n",
      "/opt/conda/lib/python3.7/site-packages/matplotlib/backends/backend_agg.py:180: RuntimeWarning: Glyph 12367 missing from current font.\n",
      "  font.set_text(s, 0, flags=flags)\n",
      "/opt/conda/lib/python3.7/site-packages/matplotlib/backends/backend_agg.py:180: RuntimeWarning: Glyph 12417 missing from current font.\n",
      "  font.set_text(s, 0, flags=flags)\n",
      "/opt/conda/lib/python3.7/site-packages/matplotlib/backends/backend_agg.py:180: RuntimeWarning: Glyph 26408 missing from current font.\n",
      "  font.set_text(s, 0, flags=flags)\n",
      "/opt/conda/lib/python3.7/site-packages/matplotlib/backends/backend_agg.py:180: RuntimeWarning: Glyph 32191 missing from current font.\n",
      "  font.set_text(s, 0, flags=flags)\n",
      "/opt/conda/lib/python3.7/site-packages/matplotlib/backends/backend_agg.py:180: RuntimeWarning: Glyph 33104 missing from current font.\n",
      "  font.set_text(s, 0, flags=flags)\n",
      "/opt/conda/lib/python3.7/site-packages/matplotlib/backends/backend_agg.py:180: RuntimeWarning: Glyph 19979 missing from current font.\n",
      "  font.set_text(s, 0, flags=flags)\n",
      "/opt/conda/lib/python3.7/site-packages/matplotlib/backends/backend_agg.py:180: RuntimeWarning: Glyph 21619 missing from current font.\n",
      "  font.set_text(s, 0, flags=flags)\n",
      "/opt/conda/lib/python3.7/site-packages/matplotlib/backends/backend_agg.py:180: RuntimeWarning: Glyph 29038 missing from current font.\n",
      "  font.set_text(s, 0, flags=flags)\n",
      "/opt/conda/lib/python3.7/site-packages/matplotlib/backends/backend_agg.py:180: RuntimeWarning: Glyph 27713 missing from current font.\n",
      "  font.set_text(s, 0, flags=flags)\n",
      "/opt/conda/lib/python3.7/site-packages/matplotlib/backends/backend_agg.py:180: RuntimeWarning: Glyph 22823 missing from current font.\n",
      "  font.set_text(s, 0, flags=flags)\n",
      "/opt/conda/lib/python3.7/site-packages/matplotlib/backends/backend_agg.py:180: RuntimeWarning: Glyph 26681 missing from current font.\n",
      "  font.set_text(s, 0, flags=flags)\n",
      "/opt/conda/lib/python3.7/site-packages/matplotlib/backends/backend_agg.py:180: RuntimeWarning: Glyph 29275 missing from current font.\n",
      "  font.set_text(s, 0, flags=flags)\n",
      "/opt/conda/lib/python3.7/site-packages/matplotlib/backends/backend_agg.py:180: RuntimeWarning: Glyph 20083 missing from current font.\n",
      "  font.set_text(s, 0, flags=flags)\n",
      "/opt/conda/lib/python3.7/site-packages/matplotlib/backends/backend_agg.py:180: RuntimeWarning: Glyph 12431 missing from current font.\n",
      "  font.set_text(s, 0, flags=flags)\n",
      "/opt/conda/lib/python3.7/site-packages/matplotlib/backends/backend_agg.py:180: RuntimeWarning: Glyph 12379 missing from current font.\n",
      "  font.set_text(s, 0, flags=flags)\n",
      "/opt/conda/lib/python3.7/site-packages/matplotlib/backends/backend_agg.py:180: RuntimeWarning: Glyph 35519 missing from current font.\n",
      "  font.set_text(s, 0, flags=flags)\n"
     ]
    },
    {
     "name": "stderr",
     "output_type": "stream",
     "text": [
      "/opt/conda/lib/python3.7/site-packages/matplotlib/backends/backend_agg.py:180: RuntimeWarning: Glyph 12394 missing from current font.\n",
      "  font.set_text(s, 0, flags=flags)\n",
      "/opt/conda/lib/python3.7/site-packages/matplotlib/backends/backend_agg.py:180: RuntimeWarning: Glyph 12523 missing from current font.\n",
      "  font.set_text(s, 0, flags=flags)\n",
      "/opt/conda/lib/python3.7/site-packages/matplotlib/backends/backend_agg.py:180: RuntimeWarning: Glyph 36196 missing from current font.\n",
      "  font.set_text(s, 0, flags=flags)\n",
      "/opt/conda/lib/python3.7/site-packages/matplotlib/backends/backend_agg.py:180: RuntimeWarning: Glyph 21776 missing from current font.\n",
      "  font.set_text(s, 0, flags=flags)\n",
      "/opt/conda/lib/python3.7/site-packages/matplotlib/backends/backend_agg.py:180: RuntimeWarning: Glyph 36763 missing from current font.\n",
      "  font.set_text(s, 0, flags=flags)\n",
      "/opt/conda/lib/python3.7/site-packages/matplotlib/backends/backend_agg.py:180: RuntimeWarning: Glyph 23376 missing from current font.\n",
      "  font.set_text(s, 0, flags=flags)\n",
      "/opt/conda/lib/python3.7/site-packages/matplotlib/backends/backend_agg.py:180: RuntimeWarning: Glyph 28201 missing from current font.\n",
      "  font.set_text(s, 0, flags=flags)\n",
      "/opt/conda/lib/python3.7/site-packages/matplotlib/backends/backend_agg.py:180: RuntimeWarning: Glyph 39151 missing from current font.\n",
      "  font.set_text(s, 0, flags=flags)\n",
      "/opt/conda/lib/python3.7/site-packages/matplotlib/backends/backend_agg.py:180: RuntimeWarning: Glyph 12421 missing from current font.\n",
      "  font.set_text(s, 0, flags=flags)\n",
      "/opt/conda/lib/python3.7/site-packages/matplotlib/backends/backend_agg.py:176: RuntimeWarning: Glyph 37218 missing from current font.\n",
      "  font.load_char(ord(s), flags=flags)\n",
      "/opt/conda/lib/python3.7/site-packages/matplotlib/backends/backend_agg.py:180: RuntimeWarning: Glyph 40614 missing from current font.\n",
      "  font.set_text(s, 0, flags=flags)\n",
      "/opt/conda/lib/python3.7/site-packages/matplotlib/backends/backend_agg.py:180: RuntimeWarning: Glyph 30722 missing from current font.\n",
      "  font.set_text(s, 0, flags=flags)\n",
      "/opt/conda/lib/python3.7/site-packages/matplotlib/backends/backend_agg.py:180: RuntimeWarning: Glyph 31958 missing from current font.\n",
      "  font.set_text(s, 0, flags=flags)\n",
      "/opt/conda/lib/python3.7/site-packages/matplotlib/backends/backend_agg.py:180: RuntimeWarning: Glyph 29255 missing from current font.\n",
      "  font.set_text(s, 0, flags=flags)\n",
      "/opt/conda/lib/python3.7/site-packages/matplotlib/backends/backend_agg.py:180: RuntimeWarning: Glyph 26647 missing from current font.\n",
      "  font.set_text(s, 0, flags=flags)\n",
      "/opt/conda/lib/python3.7/site-packages/matplotlib/backends/backend_agg.py:176: RuntimeWarning: Glyph 21365 missing from current font.\n",
      "  font.load_char(ord(s), flags=flags)\n",
      "/opt/conda/lib/python3.7/site-packages/matplotlib/backends/backend_agg.py:180: RuntimeWarning: Glyph 29577 missing from current font.\n",
      "  font.set_text(s, 0, flags=flags)\n",
      "/opt/conda/lib/python3.7/site-packages/matplotlib/backends/backend_agg.py:176: RuntimeWarning: Glyph 37202 missing from current font.\n",
      "  font.load_char(ord(s), flags=flags)\n",
      "/opt/conda/lib/python3.7/site-packages/matplotlib/backends/backend_agg.py:180: RuntimeWarning: Glyph 12422 missing from current font.\n",
      "  font.set_text(s, 0, flags=flags)\n",
      "/opt/conda/lib/python3.7/site-packages/matplotlib/backends/backend_agg.py:180: RuntimeWarning: Glyph 12469 missing from current font.\n",
      "  font.set_text(s, 0, flags=flags)\n",
      "/opt/conda/lib/python3.7/site-packages/matplotlib/backends/backend_agg.py:180: RuntimeWarning: Glyph 12480 missing from current font.\n",
      "  font.set_text(s, 0, flags=flags)\n",
      "/opt/conda/lib/python3.7/site-packages/matplotlib/backends/backend_agg.py:176: RuntimeWarning: Glyph 22633 missing from current font.\n",
      "  font.load_char(ord(s), flags=flags)\n"
     ]
    },
    {
     "data": {
      "image/png": "[encoded data removed]",
      "text/plain": [
       "<Figure size 720x1440 with 1 Axes>"
      ]
     },
     "metadata": {},
     "output_type": "display_data"
    },
    {
     "name": "stdout",
     "output_type": "stream",
     "text": [
      "[('材料', 13633), ('塩', 7341), ('サラダ油', 3921), ('こしょう', 2880), ('しょうゆ', 2646), ('酒', 2269), ('玉ねぎ', 1673), ('ごま油', 1501), ('ねぎ', 1424), ('卵', 1304), ('片栗粉', 1273), ('砂糖', 1268), ('にんじん', 1154), ('にんにく', 1145), ('バター', 1101), ('揚げ油', 1082), ('小麦粉', 1048), ('だし汁', 1010), ('A', 955), ('酢', 824), ('きゅうり', 734), ('温かいご飯', 692), ('赤唐辛子', 647), ('みりん', 646), ('オリーブオイル', 633), ('じゃがいも', 604), ('なす', 603), ('白いりごま', 603), ('合わせ調味料', 602), ('牛乳', 590), ('大根', 588), ('パセリのみじん切り', 555), ('生しいたけ', 545), ('ピーマン', 531), ('トマト', 529), ('青じその葉', 523), ('煮汁', 516), ('下味', 500), ('木綿豆腐', 490), ('鶏もも肉', 485), ('しょうが', 481), ('万能ねぎ', 446), ('しめじ', 435), ('にんにくのみじん切り', 432), ('溶き卵', 431), ('さやいんげん', 423), ('みそ', 420), ('豚ひき肉', 404), ('鶏ガラスープの素（顆粒）', 383), ('にら', 383), ('たれ', 382), ('ドレッシング', 376), ('豆板醤', 374), ('米', 373), ('カレー粉', 372), ('（2人分）', 366), ('マヨネーズ', 353), ('（4人分）', 345), ('材料（1人分）', 343), ('生クリーム', 338), ('スパゲティ', 333), ('かぼちゃ', 329), ('キャベツの葉', 327), ('プチトマト', 321), ('パン粉', 319), ('ねぎのみじん切り', 318), ('もやし', 311), ('ベーコン', 305), ('グリーンアスパラガス', 291), ('固形スープの素', 283), ('ごぼう', 283), ('ピザ用チーズ', 282), ('「作り方」参照', 278), ('ローリエ', 278), ('削り節', 277), ('貝割れ菜', 277), ('豚バラ薄切り肉', 275), ('オリーブ油', 273), ('白ワイン', 272), ('ブロッコリー', 272), ('油揚げ', 263), ('粉チーズ', 261), ('セロリ', 260), ('鶏ひき肉', 252), ('えのきだけ', 251), ('三つ葉', 247), ('きぬさや', 246), ('青梗菜', 246), ('しょうがのみじん切り', 245), ('合いびき肉', 244), ('キャベツ', 244), ('ほうれん草', 237), ('小松菜', 235), ('たね', 234), ('レタスの葉', 234), ('粗びき黒こしょう', 232), ('｢作り方｣参照', 225), ('万能ねぎの小口切り', 224), ('材料（作りやすい分量）', 222), ('豚こま切れ肉', 222)]\n"
     ]
    }
   ],
   "source": [
    "ora['ing_only'] = ora['ingredients'].apply(lambda x: list(x.keys()))\n",
    "ora['ing_only'].head()\n",
    "all_ing = reduce(lambda x, y : x+y, list(ora['ing_only']))\n",
    "all_ing[:100]\n",
    "count_all_ing = Counter(all_ing)\n",
    "top100 = count_all_ing.most_common(100)\n",
    "ing100 = [t[0] for t in top100]\n",
    "count100 = [t[1] for t in top100]\n",
    "ing100.reverse()\n",
    "count100.reverse()\n",
    "\n",
    "plt.figure(figsize=(10, 20))\n",
    "plt.barh(ing100, count100)\n",
    "plt.yticks(ing100)\n",
    "plt.show()\n",
    "print(top100)"
   ]
  },
  {
   "cell_type": "markdown",
   "metadata": {},
   "source": [
    "## ベターホーム"
   ]
  },
  {
   "cell_type": "code",
   "execution_count": 111,
   "metadata": {
    "scrolled": true
   },
   "outputs": [
    {
     "name": "stderr",
     "output_type": "stream",
     "text": [
      "/opt/conda/lib/python3.7/site-packages/matplotlib/backends/backend_agg.py:211: RuntimeWarning: Glyph 12392 missing from current font.\n",
      "  font.set_text(s, 0.0, flags=flags)\n",
      "/opt/conda/lib/python3.7/site-packages/matplotlib/backends/backend_agg.py:211: RuntimeWarning: Glyph 12304 missing from current font.\n",
      "  font.set_text(s, 0.0, flags=flags)\n",
      "/opt/conda/lib/python3.7/site-packages/matplotlib/backends/backend_agg.py:211: RuntimeWarning: Glyph 12305 missing from current font.\n",
      "  font.set_text(s, 0.0, flags=flags)\n",
      "/opt/conda/lib/python3.7/site-packages/matplotlib/backends/backend_agg.py:211: RuntimeWarning: Glyph 12393 missing from current font.\n",
      "  font.set_text(s, 0.0, flags=flags)\n",
      "/opt/conda/lib/python3.7/site-packages/matplotlib/backends/backend_agg.py:211: RuntimeWarning: Glyph 12354 missing from current font.\n",
      "  font.set_text(s, 0.0, flags=flags)\n",
      "/opt/conda/lib/python3.7/site-packages/matplotlib/backends/backend_agg.py:211: RuntimeWarning: Glyph 12477 missing from current font.\n",
      "  font.set_text(s, 0.0, flags=flags)\n",
      "/opt/conda/lib/python3.7/site-packages/matplotlib/backends/backend_agg.py:211: RuntimeWarning: Glyph 34101 missing from current font.\n",
      "  font.set_text(s, 0.0, flags=flags)\n",
      "/opt/conda/lib/python3.7/site-packages/matplotlib/backends/backend_agg.py:211: RuntimeWarning: Glyph 32244 missing from current font.\n",
      "  font.set_text(s, 0.0, flags=flags)\n",
      "/opt/conda/lib/python3.7/site-packages/matplotlib/backends/backend_agg.py:211: RuntimeWarning: Glyph 65315 missing from current font.\n",
      "  font.set_text(s, 0.0, flags=flags)\n",
      "/opt/conda/lib/python3.7/site-packages/matplotlib/backends/backend_agg.py:211: RuntimeWarning: Glyph 12406 missing from current font.\n",
      "  font.set_text(s, 0.0, flags=flags)\n",
      "/opt/conda/lib/python3.7/site-packages/matplotlib/backends/backend_agg.py:211: RuntimeWarning: Glyph 12517 missing from current font.\n",
      "  font.set_text(s, 0.0, flags=flags)\n",
      "/opt/conda/lib/python3.7/site-packages/matplotlib/backends/backend_agg.py:211: RuntimeWarning: Glyph 12391 missing from current font.\n",
      "  font.set_text(s, 0.0, flags=flags)\n",
      "/opt/conda/lib/python3.7/site-packages/matplotlib/backends/backend_agg.py:211: RuntimeWarning: Glyph 28988 missing from current font.\n",
      "  font.set_text(s, 0.0, flags=flags)\n",
      "/opt/conda/lib/python3.7/site-packages/matplotlib/backends/backend_agg.py:211: RuntimeWarning: Glyph 12399 missing from current font.\n",
      "  font.set_text(s, 0.0, flags=flags)\n",
      "/opt/conda/lib/python3.7/site-packages/matplotlib/backends/backend_agg.py:211: RuntimeWarning: Glyph 12405 missing from current font.\n",
      "  font.set_text(s, 0.0, flags=flags)\n",
      "/opt/conda/lib/python3.7/site-packages/matplotlib/backends/backend_agg.py:211: RuntimeWarning: Glyph 12514 missing from current font.\n",
      "  font.set_text(s, 0.0, flags=flags)\n",
      "/opt/conda/lib/python3.7/site-packages/matplotlib/backends/backend_agg.py:211: RuntimeWarning: Glyph 12400 missing from current font.\n",
      "  font.set_text(s, 0.0, flags=flags)\n",
      "/opt/conda/lib/python3.7/site-packages/matplotlib/backends/backend_agg.py:211: RuntimeWarning: Glyph 12378 missing from current font.\n",
      "  font.set_text(s, 0.0, flags=flags)\n",
      "/opt/conda/lib/python3.7/site-packages/matplotlib/backends/backend_agg.py:211: RuntimeWarning: Glyph 12362 missing from current font.\n",
      "  font.set_text(s, 0.0, flags=flags)\n",
      "/opt/conda/lib/python3.7/site-packages/matplotlib/backends/backend_agg.py:211: RuntimeWarning: Glyph 65346 missing from current font.\n",
      "  font.set_text(s, 0.0, flags=flags)\n",
      "/opt/conda/lib/python3.7/site-packages/matplotlib/backends/backend_agg.py:211: RuntimeWarning: Glyph 24178 missing from current font.\n",
      "  font.set_text(s, 0.0, flags=flags)\n",
      "/opt/conda/lib/python3.7/site-packages/matplotlib/backends/backend_agg.py:211: RuntimeWarning: Glyph 27700 missing from current font.\n",
      "  font.set_text(s, 0.0, flags=flags)\n",
      "/opt/conda/lib/python3.7/site-packages/matplotlib/backends/backend_agg.py:211: RuntimeWarning: Glyph 65345 missing from current font.\n",
      "  font.set_text(s, 0.0, flags=flags)\n",
      "/opt/conda/lib/python3.7/site-packages/matplotlib/backends/backend_agg.py:211: RuntimeWarning: Glyph 65314 missing from current font.\n",
      "  font.set_text(s, 0.0, flags=flags)\n",
      "/opt/conda/lib/python3.7/site-packages/matplotlib/backends/backend_agg.py:211: RuntimeWarning: Glyph 65313 missing from current font.\n",
      "  font.set_text(s, 0.0, flags=flags)\n",
      "/opt/conda/lib/python3.7/site-packages/matplotlib/backends/backend_agg.py:211: RuntimeWarning: Glyph 39135 missing from current font.\n",
      "  font.set_text(s, 0.0, flags=flags)\n",
      "/opt/conda/lib/python3.7/site-packages/matplotlib/backends/backend_agg.py:180: RuntimeWarning: Glyph 12392 missing from current font.\n",
      "  font.set_text(s, 0, flags=flags)\n",
      "/opt/conda/lib/python3.7/site-packages/matplotlib/backends/backend_agg.py:180: RuntimeWarning: Glyph 12304 missing from current font.\n",
      "  font.set_text(s, 0, flags=flags)\n",
      "/opt/conda/lib/python3.7/site-packages/matplotlib/backends/backend_agg.py:180: RuntimeWarning: Glyph 12305 missing from current font.\n",
      "  font.set_text(s, 0, flags=flags)\n",
      "/opt/conda/lib/python3.7/site-packages/matplotlib/backends/backend_agg.py:180: RuntimeWarning: Glyph 12393 missing from current font.\n",
      "  font.set_text(s, 0, flags=flags)\n",
      "/opt/conda/lib/python3.7/site-packages/matplotlib/backends/backend_agg.py:180: RuntimeWarning: Glyph 12354 missing from current font.\n",
      "  font.set_text(s, 0, flags=flags)\n",
      "/opt/conda/lib/python3.7/site-packages/matplotlib/backends/backend_agg.py:180: RuntimeWarning: Glyph 12477 missing from current font.\n",
      "  font.set_text(s, 0, flags=flags)\n",
      "/opt/conda/lib/python3.7/site-packages/matplotlib/backends/backend_agg.py:180: RuntimeWarning: Glyph 22633 missing from current font.\n",
      "  font.set_text(s, 0, flags=flags)\n",
      "/opt/conda/lib/python3.7/site-packages/matplotlib/backends/backend_agg.py:180: RuntimeWarning: Glyph 34101 missing from current font.\n",
      "  font.set_text(s, 0, flags=flags)\n",
      "/opt/conda/lib/python3.7/site-packages/matplotlib/backends/backend_agg.py:180: RuntimeWarning: Glyph 32244 missing from current font.\n",
      "  font.set_text(s, 0, flags=flags)\n",
      "/opt/conda/lib/python3.7/site-packages/matplotlib/backends/backend_agg.py:176: RuntimeWarning: Glyph 65315 missing from current font.\n",
      "  font.load_char(ord(s), flags=flags)\n",
      "/opt/conda/lib/python3.7/site-packages/matplotlib/backends/backend_agg.py:180: RuntimeWarning: Glyph 12406 missing from current font.\n",
      "  font.set_text(s, 0, flags=flags)\n",
      "/opt/conda/lib/python3.7/site-packages/matplotlib/backends/backend_agg.py:180: RuntimeWarning: Glyph 12517 missing from current font.\n",
      "  font.set_text(s, 0, flags=flags)\n",
      "/opt/conda/lib/python3.7/site-packages/matplotlib/backends/backend_agg.py:180: RuntimeWarning: Glyph 12391 missing from current font.\n",
      "  font.set_text(s, 0, flags=flags)\n",
      "/opt/conda/lib/python3.7/site-packages/matplotlib/backends/backend_agg.py:180: RuntimeWarning: Glyph 28988 missing from current font.\n",
      "  font.set_text(s, 0, flags=flags)\n",
      "/opt/conda/lib/python3.7/site-packages/matplotlib/backends/backend_agg.py:180: RuntimeWarning: Glyph 12399 missing from current font.\n",
      "  font.set_text(s, 0, flags=flags)\n",
      "/opt/conda/lib/python3.7/site-packages/matplotlib/backends/backend_agg.py:180: RuntimeWarning: Glyph 12405 missing from current font.\n",
      "  font.set_text(s, 0, flags=flags)\n",
      "/opt/conda/lib/python3.7/site-packages/matplotlib/backends/backend_agg.py:180: RuntimeWarning: Glyph 12514 missing from current font.\n",
      "  font.set_text(s, 0, flags=flags)\n",
      "/opt/conda/lib/python3.7/site-packages/matplotlib/backends/backend_agg.py:180: RuntimeWarning: Glyph 12400 missing from current font.\n",
      "  font.set_text(s, 0, flags=flags)\n",
      "/opt/conda/lib/python3.7/site-packages/matplotlib/backends/backend_agg.py:180: RuntimeWarning: Glyph 12378 missing from current font.\n",
      "  font.set_text(s, 0, flags=flags)\n",
      "/opt/conda/lib/python3.7/site-packages/matplotlib/backends/backend_agg.py:180: RuntimeWarning: Glyph 12362 missing from current font.\n",
      "  font.set_text(s, 0, flags=flags)\n",
      "/opt/conda/lib/python3.7/site-packages/matplotlib/backends/backend_agg.py:176: RuntimeWarning: Glyph 65346 missing from current font.\n",
      "  font.load_char(ord(s), flags=flags)\n",
      "/opt/conda/lib/python3.7/site-packages/matplotlib/backends/backend_agg.py:180: RuntimeWarning: Glyph 24178 missing from current font.\n",
      "  font.set_text(s, 0, flags=flags)\n",
      "/opt/conda/lib/python3.7/site-packages/matplotlib/backends/backend_agg.py:176: RuntimeWarning: Glyph 27700 missing from current font.\n",
      "  font.load_char(ord(s), flags=flags)\n",
      "/opt/conda/lib/python3.7/site-packages/matplotlib/backends/backend_agg.py:176: RuntimeWarning: Glyph 65345 missing from current font.\n",
      "  font.load_char(ord(s), flags=flags)\n",
      "/opt/conda/lib/python3.7/site-packages/matplotlib/backends/backend_agg.py:176: RuntimeWarning: Glyph 65314 missing from current font.\n",
      "  font.load_char(ord(s), flags=flags)\n",
      "/opt/conda/lib/python3.7/site-packages/matplotlib/backends/backend_agg.py:176: RuntimeWarning: Glyph 65313 missing from current font.\n",
      "  font.load_char(ord(s), flags=flags)\n",
      "/opt/conda/lib/python3.7/site-packages/matplotlib/backends/backend_agg.py:180: RuntimeWarning: Glyph 39135 missing from current font.\n",
      "  font.set_text(s, 0, flags=flags)\n"
     ]
    },
    {
     "data": {
      "image/png": "[encoded data removed]",
      "text/plain": [
       "<Figure size 720x1440 with 1 Axes>"
      ]
     },
     "metadata": {},
     "output_type": "display_data"
    },
    {
     "name": "stdout",
     "output_type": "stream",
     "text": [
      "[('食材', 4430), ('塩', 1639), ('Ａ', 1608), ('サラダ油', 980), ('こしょう', 841), ('たまねぎ', 608), ('しょうゆ', 589), ('バター', 552), ('酒', 530), ('にんじん', 437), ('ねぎ', 404), ('卵', 378), ('しょうが', 369), ('Ｂ', 329), ('にんにく', 316), ('ａ', 311), ('じゃがいも', 301), ('砂糖', 300), ('揚げ油', 279), ('小麦粉', 267), ('水', 267), ('きゅうり', 251), ('ごま油', 250), ('だいこん', 237), ('だし', 235), ('酢', 205), ('みりん', 197), ('オリーブ油', 197), ('かたくり粉', 197), ('しいたけ', 190), ('白ワイン', 184), ('セロリ', 175), ('牛乳', 175), ('A', 159), ('赤とうがらし', 155), ('ピーマン', 148), ('なす', 147), ('キャベツ', 145), ('米', 142), ('ベーコン', 141), ('しその葉', 140), ('トマト', 138), ('レモン汁', 136), ('いりごま（白）', 132), ('しめじ', 117), ('生クリーム', 116), ('ごぼう', 115), ('干ししいたけ', 111), ('ドレッシング', 110), ('とりもも肉', 110), ('かぼちゃ', 107), ('ｂ', 101), ('ごはん', 95), ('けずりかつお', 95), ('みつば', 92), ('パセリのみじん切り', 92), ('万能ねぎ', 90), ('レモン', 89), ('もめんどうふ', 88), ('油揚げ', 87), ('レタス', 86), ('れんこん', 85), ('さやいんげん', 81), ('こんぶ', 80), ('ブロッコリー', 80), ('グリーンアスパラガス', 78), ('パン粉', 78), ('はくさい', 77), ('焼きのり', 76), ('かいわれだいこん', 76), ('ゆでたけのこ', 75), ('もやし', 71), ('マヨネーズ', 71), ('ほうれんそう', 69), ('粉チーズ', 69), ('にら', 68), ('豚ひき肉', 68), ('赤ピーマン', 68), ('マッシュルーム', 67), ('えのきだけ', 66), ('みそ', 66), ('かぶ', 65), ('Ｃ', 63), ('練りがらし', 61), ('パセリ', 61), ('さといも', 60), ('わかめ（塩蔵）', 58), ('しょうが汁', 58), ('スープの素', 58), ('クレソン', 58), ('あさつき', 57), ('さつまいも', 56), ('えび', 54), ('ローリエ', 53), ('つけ合わせ', 53), ('さやえんどう', 52), ('【つけ合わせ】', 52), ('オクラ', 51), ('ちりめんじゃこ', 50), ('とりひき肉', 48)]\n"
     ]
    }
   ],
   "source": [
    "bet['ing_only'] = bet['ingredients'].apply(lambda x: list(x.keys()))\n",
    "all_ing = reduce(lambda x, y : x+y, list(bet['ing_only']))\n",
    "all_ing[:100]\n",
    "count_all_ing = Counter(all_ing)\n",
    "top100 = count_all_ing.most_common(100)\n",
    "ing100 = [t[0] for t in top100]\n",
    "count100 = [t[1] for t in top100]\n",
    "ing100.reverse()\n",
    "count100.reverse()\n",
    "\n",
    "plt.figure(figsize=(10, 20))\n",
    "plt.barh(ing100, count100)\n",
    "plt.yticks(ing100)\n",
    "plt.show()\n",
    "print(top100)"
   ]
  },
  {
   "cell_type": "markdown",
   "metadata": {},
   "source": [
    "# レシピの文字数の比較"
   ]
  },
  {
   "cell_type": "code",
   "execution_count": 112,
   "metadata": {},
   "outputs": [],
   "source": [
    "ora['recipe_length'] = ora['recipe'].apply(lambda x: len(x))\n",
    "bet['recipe_length'] = bet['recipe'].apply(lambda x: len(x))"
   ]
  },
  {
   "cell_type": "code",
   "execution_count": 113,
   "metadata": {},
   "outputs": [],
   "source": [
    "ora['recipe_type'] = ora['recipe_length'].apply(lambda x: 'orangepage')\n",
    "bet['recipe_type'] = bet['recipe_length'].apply(lambda x: 'betterhome')"
   ]
  },
  {
   "cell_type": "code",
   "execution_count": 114,
   "metadata": {},
   "outputs": [],
   "source": [
    "sns.set(style='whitegrid')"
   ]
  },
  {
   "cell_type": "code",
   "execution_count": 115,
   "metadata": {
    "scrolled": true
   },
   "outputs": [
    {
     "data": {
      "image/png": "[encoded data removed]",
      "text/plain": [
       "<Figure size 432x288 with 1 Axes>"
      ]
     },
     "metadata": {},
     "output_type": "display_data"
    }
   ],
   "source": [
    "sns.distplot(ora['recipe_length'], label='orangepage')\n",
    "sns.distplot(bet['recipe_length'], label='betterhome')\n",
    "plt.legend()\n",
    "plt.savefig('compare_recipe_length.jpg')\n",
    "plt.show()"
   ]
  },
  {
   "cell_type": "code",
   "execution_count": 116,
   "metadata": {},
   "outputs": [
    {
     "data": {
      "image/png": "[encoded data removed]",
      "text/plain": [
       "<Figure size 432x288 with 1 Axes>"
      ]
     },
     "metadata": {},
     "output_type": "display_data"
    }
   ],
   "source": [
    "ora_length = ora[['recipe_length', 'recipe_type']]\n",
    "bet_length = bet[['recipe_length', 'recipe_type']]\n",
    "all_length = pd.concat([ora_length, bet_length])\n",
    "sns.violinplot(x='recipe_type', y='recipe_length', data=all_length)\n",
    "plt.show()"
   ]
  },
  {
   "cell_type": "code",
   "execution_count": 117,
   "metadata": {
    "scrolled": false
   },
   "outputs": [
    {
     "data": {
      "text/plain": [
       "count    15499.000000\n",
       "mean       282.785276\n",
       "std        156.123719\n",
       "min          1.000000\n",
       "25%        174.000000\n",
       "50%        259.000000\n",
       "75%        358.000000\n",
       "max       1889.000000\n",
       "Name: recipe_length, dtype: float64"
      ]
     },
     "execution_count": 117,
     "metadata": {},
     "output_type": "execute_result"
    }
   ],
   "source": [
    "ora['recipe_length'].describe()"
   ]
  },
  {
   "cell_type": "code",
   "execution_count": 118,
   "metadata": {
    "scrolled": false
   },
   "outputs": [
    {
     "data": {
      "text/plain": [
       "count    4430.000000\n",
       "mean      185.742664\n",
       "std        80.875145\n",
       "min        15.000000\n",
       "25%       128.000000\n",
       "50%       178.000000\n",
       "75%       230.000000\n",
       "max       777.000000\n",
       "Name: recipe_length, dtype: float64"
      ]
     },
     "execution_count": 118,
     "metadata": {},
     "output_type": "execute_result"
    }
   ],
   "source": [
    "bet['recipe_length'].describe()"
   ]
  },
  {
   "cell_type": "code",
   "execution_count": 119,
   "metadata": {
    "scrolled": false
   },
   "outputs": [
    {
     "data": {
      "image/png": "[encoded data removed]",
      "text/plain": [
       "<Figure size 720x1080 with 6 Axes>"
      ]
     },
     "metadata": {},
     "output_type": "display_data"
    }
   ],
   "source": [
    "length_desc = pd.DataFrame({})\n",
    "ora_length_desc = ora['recipe_length'].describe()\n",
    "bet_length_desc = bet['recipe_length'].describe()\n",
    "ora_length_desc['type'] = 'orangepage'\n",
    "bet_length_desc['type'] = 'betterhome'\n",
    "length_desc['orangepage'] = ora_length_desc\n",
    "length_desc['betterhome'] = bet_length_desc\n",
    "describe_plot(length_desc)\n"
   ]
  },
  {
   "cell_type": "markdown",
   "metadata": {},
   "source": [
    "# 調理時間の比較"
   ]
  },
  {
   "cell_type": "code",
   "execution_count": 120,
   "metadata": {
    "scrolled": true
   },
   "outputs": [
    {
     "data": {
      "image/png": "[encoded data removed]",
      "text/plain": [
       "<Figure size 432x288 with 1 Axes>"
      ]
     },
     "metadata": {},
     "output_type": "display_data"
    }
   ],
   "source": [
    "ora_time = ora['time'].dropna().apply(lambda x: int(x)).sort_values()\n",
    "sns.distplot(ora_time)\n",
    "plt.show()"
   ]
  },
  {
   "cell_type": "code",
   "execution_count": 121,
   "metadata": {
    "scrolled": true
   },
   "outputs": [
    {
     "data": {
      "text/plain": [
       "count    13051.000000\n",
       "mean        21.830128\n",
       "std          8.809914\n",
       "min          0.000000\n",
       "25%         15.000000\n",
       "50%         20.000000\n",
       "75%         25.000000\n",
       "max        210.000000\n",
       "Name: time, dtype: float64"
      ]
     },
     "execution_count": 121,
     "metadata": {},
     "output_type": "execute_result"
    }
   ],
   "source": [
    "ora_time.describe()"
   ]
  },
  {
   "cell_type": "code",
   "execution_count": 122,
   "metadata": {},
   "outputs": [
    {
     "data": {
      "text/plain": [
       "array(['15分以内', '15～30分', '30～60分', '60分以上', '\\xa0'], dtype=object)"
      ]
     },
     "execution_count": 122,
     "metadata": {},
     "output_type": "execute_result"
    }
   ],
   "source": [
    "bet['time'].unique()"
   ]
  },
  {
   "cell_type": "code",
   "execution_count": 123,
   "metadata": {},
   "outputs": [
    {
     "data": {
      "text/plain": [
       "4430"
      ]
     },
     "execution_count": 123,
     "metadata": {},
     "output_type": "execute_result"
    }
   ],
   "source": [
    "len(bet['time'])"
   ]
  },
  {
   "cell_type": "code",
   "execution_count": 124,
   "metadata": {},
   "outputs": [
    {
     "data": {
      "text/plain": [
       "4430"
      ]
     },
     "execution_count": 124,
     "metadata": {},
     "output_type": "execute_result"
    }
   ],
   "source": [
    "bet['time'].count()"
   ]
  },
  {
   "cell_type": "code",
   "execution_count": 125,
   "metadata": {
    "scrolled": true
   },
   "outputs": [
    {
     "data": {
      "text/plain": [
       "15分以内     1994\n",
       "15～30分    1687\n",
       "30～60分     394\n",
       "60分以上      354\n",
       "             1\n",
       "Name: time, dtype: int64"
      ]
     },
     "execution_count": 125,
     "metadata": {},
     "output_type": "execute_result"
    }
   ],
   "source": [
    "bet['time'].value_counts()"
   ]
  },
  {
   "cell_type": "code",
   "execution_count": 126,
   "metadata": {},
   "outputs": [
    {
     "name": "stdout",
     "output_type": "stream",
     "text": [
      "15分以内 45.01%\n",
      "15～30分 38.08%\n",
      "30～60分 8.89%\n",
      "60分以上 7.99%\n",
      "  0.02%\n"
     ]
    }
   ],
   "source": [
    "all_count = bet['time'].count()\n",
    "for k, v in zip(bet['time'].value_counts().index, bet['time'].value_counts()):\n",
    "    percent = '{:.2%}'.format(v/all_count)\n",
    "    print(k, percent)"
   ]
  },
  {
   "cell_type": "code",
   "execution_count": 127,
   "metadata": {},
   "outputs": [
    {
     "data": {
      "text/plain": [
       "[1994, 1687, 394, 354, 1]"
      ]
     },
     "execution_count": 127,
     "metadata": {},
     "output_type": "execute_result"
    }
   ],
   "source": [
    "pi_x = [\n",
    "    'under_15',\n",
    "    '15-30',\n",
    "    '30-60',\n",
    "    'over_60',\n",
    "    ''\n",
    "]\n",
    "pi_x\n",
    "pi_y = list(bet['time'].value_counts())\n",
    "pi_y"
   ]
  },
  {
   "cell_type": "code",
   "execution_count": 128,
   "metadata": {
    "scrolled": true
   },
   "outputs": [],
   "source": [
    "ora['time_int'] = ora['time'].dropna().apply(lambda x: int(x))\n",
    "ora_under_15 = ora.query('0 < time_int <= 15')\n",
    "ora_15_30 = ora.query('15 < time_int <= 30')\n",
    "ora_30_60 = ora.query('30 < time_int <= 60')\n",
    "ora_over_60 = ora.query('60 < time_int')\n",
    "NAN = len(ora['time']) - ora['time'].count()"
   ]
  },
  {
   "cell_type": "code",
   "execution_count": 129,
   "metadata": {},
   "outputs": [],
   "source": [
    "count_ora_under_15 = ora_under_15['time_int'].count()\n",
    "count_ora_15_30 = ora_15_30['time_int'].count()\n",
    "count_ora_30_60 = ora_30_60['time_int'].count()\n",
    "count_ora_over_60 = ora_over_60['time_int'].count()\n",
    "count_NAN = NAN"
   ]
  },
  {
   "cell_type": "code",
   "execution_count": 130,
   "metadata": {},
   "outputs": [],
   "source": [
    "ora_time_count = [\n",
    "    count_ora_under_15,\n",
    "    count_ora_15_30,\n",
    "    count_ora_30_60,\n",
    "    count_ora_over_60,\n",
    "    NAN\n",
    "]"
   ]
  },
  {
   "cell_type": "code",
   "execution_count": 131,
   "metadata": {},
   "outputs": [],
   "source": [
    "ora_time_strings = [\n",
    "    'NAN',\n",
    "    'under15',\n",
    "    '15-30',\n",
    "    '30-60',\n",
    "    'over60'\n",
    "]"
   ]
  },
  {
   "cell_type": "code",
   "execution_count": 132,
   "metadata": {},
   "outputs": [
    {
     "data": {
      "text/plain": [
       "[4354, 7600, 1075, 9, 2448]"
      ]
     },
     "execution_count": 132,
     "metadata": {},
     "output_type": "execute_result"
    }
   ],
   "source": [
    "ora_time_count"
   ]
  },
  {
   "cell_type": "markdown",
   "metadata": {},
   "source": [
    "## オレンジページ"
   ]
  },
  {
   "cell_type": "code",
   "execution_count": 133,
   "metadata": {
    "scrolled": true
   },
   "outputs": [
    {
     "data": {
      "image/png": "[encoded data removed]",
      "text/plain": [
       "<Figure size 432x288 with 1 Axes>"
      ]
     },
     "metadata": {},
     "output_type": "display_data"
    }
   ],
   "source": [
    "# orangepage\n",
    "plt.pie(ora_time_count, labels=ora_time_strings)\n",
    "plt.show()"
   ]
  },
  {
   "cell_type": "markdown",
   "metadata": {},
   "source": [
    "## ベターホーム"
   ]
  },
  {
   "cell_type": "code",
   "execution_count": 134,
   "metadata": {
    "scrolled": true
   },
   "outputs": [
    {
     "data": {
      "image/png": "[encoded data removed]",
      "text/plain": [
       "<Figure size 432x288 with 1 Axes>"
      ]
     },
     "metadata": {},
     "output_type": "display_data"
    }
   ],
   "source": [
    "# betterhome\n",
    "plt.pie(pi_y, labels=pi_x)\n",
    "plt.show()"
   ]
  },
  {
   "cell_type": "markdown",
   "metadata": {},
   "source": [
    "# カロリーの比較"
   ]
  },
  {
   "cell_type": "code",
   "execution_count": 135,
   "metadata": {},
   "outputs": [
    {
     "data": {
      "text/plain": [
       "12981"
      ]
     },
     "execution_count": 135,
     "metadata": {},
     "output_type": "execute_result"
    }
   ],
   "source": [
    "ora['calory'].count()"
   ]
  },
  {
   "cell_type": "code",
   "execution_count": 136,
   "metadata": {},
   "outputs": [],
   "source": [
    "ora_calory = ora['calory'].dropna()\\\n",
    ".apply(lambda x: int(x.split('kcal')[0]))"
   ]
  },
  {
   "cell_type": "code",
   "execution_count": 137,
   "metadata": {},
   "outputs": [],
   "source": [
    "bet['calory_value'] = bet['calory'].dropna()\\\n",
    ".apply(lambda x: x.split('kcal')[0])"
   ]
  },
  {
   "cell_type": "code",
   "execution_count": 138,
   "metadata": {},
   "outputs": [],
   "source": [
    "bet['calory_is_num'] = bet['calory_value'].dropna()\\\n",
    ".apply(lambda x: 1 if x.isdecimal() == True else 0)"
   ]
  },
  {
   "cell_type": "code",
   "execution_count": 139,
   "metadata": {
    "scrolled": true
   },
   "outputs": [
    {
     "data": {
      "text/plain": [
       "1    4412\n",
       "0      18\n",
       "Name: calory_is_num, dtype: int64"
      ]
     },
     "execution_count": 139,
     "metadata": {},
     "output_type": "execute_result"
    }
   ],
   "source": [
    "bet['calory_is_num'].value_counts()"
   ]
  },
  {
   "cell_type": "code",
   "execution_count": 140,
   "metadata": {},
   "outputs": [
    {
     "data": {
      "text/html": [
       "<div>\n",
       "<style scoped>\n",
       "    .dataframe tbody tr th:only-of-type {\n",
       "        vertical-align: middle;\n",
       "    }\n",
       "\n",
       "    .dataframe tbody tr th {\n",
       "        vertical-align: top;\n",
       "    }\n",
       "\n",
       "    .dataframe thead th {\n",
       "        text-align: right;\n",
       "    }\n",
       "</style>\n",
       "<table border=\"1\" class=\"dataframe\">\n",
       "  <thead>\n",
       "    <tr style=\"text-align: right;\">\n",
       "      <th></th>\n",
       "      <th>title</th>\n",
       "      <th>url</th>\n",
       "      <th>recipe</th>\n",
       "      <th>time</th>\n",
       "      <th>calory</th>\n",
       "      <th>ingredients</th>\n",
       "      <th>ing_only</th>\n",
       "      <th>recipe_length</th>\n",
       "      <th>recipe_type</th>\n",
       "      <th>calory_value</th>\n",
       "      <th>calory_is_num</th>\n",
       "    </tr>\n",
       "  </thead>\n",
       "  <tbody>\n",
       "    <tr>\n",
       "      <th>212</th>\n",
       "      <td>生すじこのしょうゆ漬け</td>\n",
       "      <td>https://www.bh-recipe.jp/recipe/020600074.html</td>\n",
       "      <td>生すじこを水でさっと洗います。\\nボールにもち網をのせ、すじこを薄皮を上にしてのせます。もち...</td>\n",
       "      <td>15～30分</td>\n",
       "      <td>kcal</td>\n",
       "      <td>{'食材': ' ', '生すじこ': '１／２腹（200～300g）', 'Ａ': {'酒...</td>\n",
       "      <td>[食材, 生すじこ, Ａ]</td>\n",
       "      <td>205</td>\n",
       "      <td>betterhome</td>\n",
       "      <td></td>\n",
       "      <td>0</td>\n",
       "    </tr>\n",
       "    <tr>\n",
       "      <th>387</th>\n",
       "      <td>レモンの砂糖煮</td>\n",
       "      <td>https://www.bh-recipe.jp/recipe/050600120.html</td>\n",
       "      <td>レモンは、皮が気になるようなら、皮むき器などで薄くけずりとります。\\n（１）の重量をはかり、...</td>\n",
       "      <td>15～30分</td>\n",
       "      <td>kcal</td>\n",
       "      <td>{'食材': ' ', '汁をしぼったあとのレモン': '適量', '砂糖（レモンの重さの５...</td>\n",
       "      <td>[食材, 汁をしぼったあとのレモン, 砂糖（レモンの重さの５０％）]</td>\n",
       "      <td>118</td>\n",
       "      <td>betterhome</td>\n",
       "      <td></td>\n",
       "      <td>0</td>\n",
       "    </tr>\n",
       "    <tr>\n",
       "      <th>601</th>\n",
       "      <td>ハートのチョコレートケーキ</td>\n",
       "      <td>https://www.bh-recipe.jp/recipe/020900115.html</td>\n",
       "      <td>型にバター（材料外）を塗ります。\\nボールにＡを入れ、湯せんにかけて溶かします。溶けたら、湯...</td>\n",
       "      <td>15～30分</td>\n",
       "      <td>kcal</td>\n",
       "      <td>{'食材': ' ', 'A': '', 'スイートチョコレート': '６０ｇ', 'バター...</td>\n",
       "      <td>[食材, A, スイートチョコレート, バター（食塩不使用）, 卵, 砂糖, ブランデー, ...</td>\n",
       "      <td>250</td>\n",
       "      <td>betterhome</td>\n",
       "      <td></td>\n",
       "      <td>0</td>\n",
       "    </tr>\n",
       "    <tr>\n",
       "      <th>1347</th>\n",
       "      <td>前菜３種</td>\n",
       "      <td>https://www.bh-recipe.jp/recipe/020600077.html</td>\n",
       "      <td>【数の子入り松前漬け】　にんじんは３cm長さのせん切りにします。Ａを合わせてひと煮立ちさせ、...</td>\n",
       "      <td></td>\n",
       "      <td>kcal</td>\n",
       "      <td>{'食材': '4人分', '【数の子入り松前漬け】': '', '松前漬け用するめと昆布の...</td>\n",
       "      <td>[食材, 【数の子入り松前漬け】, 松前漬け用するめと昆布の細切り（市販品）, 塩蔵数の子,...</td>\n",
       "      <td>237</td>\n",
       "      <td>betterhome</td>\n",
       "      <td></td>\n",
       "      <td>0</td>\n",
       "    </tr>\n",
       "    <tr>\n",
       "      <th>1377</th>\n",
       "      <td>プチピクルス</td>\n",
       "      <td>https://www.bh-recipe.jp/recipe/051900090.html</td>\n",
       "      <td>野菜は器の高さの八分目までに入るように形をそろえる。（aはそれぞれスティック状に切る。bはへ...</td>\n",
       "      <td>15分以内</td>\n",
       "      <td>kcal</td>\n",
       "      <td>{'食材': ' ', 'a': {'きゅうり・セロリ・パプリカ': '80～100g'},...</td>\n",
       "      <td>[食材, a, b, c, d, e, ［ピクルス液］]</td>\n",
       "      <td>258</td>\n",
       "      <td>betterhome</td>\n",
       "      <td></td>\n",
       "      <td>0</td>\n",
       "    </tr>\n",
       "    <tr>\n",
       "      <th>1437</th>\n",
       "      <td>残り野菜のスープ</td>\n",
       "      <td>https://www.bh-recipe.jp/recipe/050600125.html</td>\n",
       "      <td>野菜や皮を１ｃｍ角くらいの大きさにそろえて切ります。ベーコンも同じ大きさに切ります。\\n鍋に...</td>\n",
       "      <td>15分以内</td>\n",
       "      <td>kcal</td>\n",
       "      <td>{'食材': '2人分', '少し残った野菜各種＋人参の皮など': '２００ｇ', 'あれば...</td>\n",
       "      <td>[食材, 少し残った野菜各種＋人参の皮など, あればベーコン, スープ（水＋スープの素適量）...</td>\n",
       "      <td>98</td>\n",
       "      <td>betterhome</td>\n",
       "      <td></td>\n",
       "      <td>0</td>\n",
       "    </tr>\n",
       "    <tr>\n",
       "      <th>1532</th>\n",
       "      <td>とりの皮のカリカリ焼き</td>\n",
       "      <td>https://www.bh-recipe.jp/recipe/050600267.html</td>\n",
       "      <td>とりの皮は、熱湯でさっとゆでます。水気をふきとります。\\n焼き網にのせ、塩、こしょうをふって...</td>\n",
       "      <td>15分以内</td>\n",
       "      <td>kcal</td>\n",
       "      <td>{'食材': ' ', 'とり肉の皮': '適量', '塩': '少々', 'こしょう': ...</td>\n",
       "      <td>[食材, とり肉の皮, 塩, こしょう, 七味とうがらし]</td>\n",
       "      <td>81</td>\n",
       "      <td>betterhome</td>\n",
       "      <td></td>\n",
       "      <td>0</td>\n",
       "    </tr>\n",
       "    <tr>\n",
       "      <th>1692</th>\n",
       "      <td>だいこんのスライスサラダ</td>\n",
       "      <td>https://www.bh-recipe.jp/recipe/020100054.html</td>\n",
       "      <td>だいこんを３～４ｃｍ長さに切って、かつらむきにします。長くむき続ける必要はなく、５～６ｃｍず...</td>\n",
       "      <td>15分以内</td>\n",
       "      <td>kcal</td>\n",
       "      <td>{'食材': ' ', 'だいこん': '適量', '塩': '適量'}</td>\n",
       "      <td>[食材, だいこん, 塩]</td>\n",
       "      <td>109</td>\n",
       "      <td>betterhome</td>\n",
       "      <td></td>\n",
       "      <td>0</td>\n",
       "    </tr>\n",
       "    <tr>\n",
       "      <th>1716</th>\n",
       "      <td>しょうが湯</td>\n",
       "      <td>https://www.bh-recipe.jp/recipe/020600096.html</td>\n",
       "      <td>しょうがは皮つきのまま薄切りにします。\\n小鍋に分量の水としょうがを入れ、弱火で７～８分煮て...</td>\n",
       "      <td>15分以内</td>\n",
       "      <td>kcal</td>\n",
       "      <td>{'食材': '4人分', 'しょうが': '１かけ（10g）', '水': '200ml'...</td>\n",
       "      <td>[食材, しょうが, 水, はちみつ]</td>\n",
       "      <td>59</td>\n",
       "      <td>betterhome</td>\n",
       "      <td></td>\n",
       "      <td>0</td>\n",
       "    </tr>\n",
       "    <tr>\n",
       "      <th>2279</th>\n",
       "      <td>大根あめ</td>\n",
       "      <td>https://www.bh-recipe.jp/recipe/020600099.html</td>\n",
       "      <td>大根は皮つきのまま1.5cmくらいの角切りにし、容器に入れます。\\n大根がかくれるまではちみ...</td>\n",
       "      <td>15分以内</td>\n",
       "      <td>kcal</td>\n",
       "      <td>{'食材': '4人分', 'だいこん': '１／８本（約120g）', 'はちみつ': '...</td>\n",
       "      <td>[食材, だいこん, はちみつ]</td>\n",
       "      <td>89</td>\n",
       "      <td>betterhome</td>\n",
       "      <td></td>\n",
       "      <td>0</td>\n",
       "    </tr>\n",
       "    <tr>\n",
       "      <th>2972</th>\n",
       "      <td>骨せんべい</td>\n",
       "      <td>https://www.bh-recipe.jp/recipe/050600266.html</td>\n",
       "      <td>骨の水気をふき、塩、こしょうをふります。小麦粉を薄くつけて、低温（１６０度）の油でゆっくりと...</td>\n",
       "      <td>15～30分</td>\n",
       "      <td>kcal</td>\n",
       "      <td>{'食材': ' ', 'おろしたあとに残った魚の中骨': '適量', '塩': '少々',...</td>\n",
       "      <td>[食材, おろしたあとに残った魚の中骨, 塩, こしょう, 小麦粉, 揚げ油]</td>\n",
       "      <td>52</td>\n",
       "      <td>betterhome</td>\n",
       "      <td></td>\n",
       "      <td>0</td>\n",
       "    </tr>\n",
       "    <tr>\n",
       "      <th>3047</th>\n",
       "      <td>いかのわたあえ</td>\n",
       "      <td>https://www.bh-recipe.jp/recipe/020600030.html</td>\n",
       "      <td>いかは内臓をとります。胴は皮をむいて５mm幅程度の細切りにし、刺し身にします。\\nいかのわた...</td>\n",
       "      <td>15～30分</td>\n",
       "      <td>kcal</td>\n",
       "      <td>{'食材': '4人分', 'いか（刺し身用）': '１ぱい（300g）', '塩': '少...</td>\n",
       "      <td>[食材, いか（刺し身用）, 塩, みそ, 酒]</td>\n",
       "      <td>190</td>\n",
       "      <td>betterhome</td>\n",
       "      <td></td>\n",
       "      <td>0</td>\n",
       "    </tr>\n",
       "    <tr>\n",
       "      <th>3568</th>\n",
       "      <td>寒ぶりのかま焼き</td>\n",
       "      <td>https://www.bh-recipe.jp/recipe/020600087.html</td>\n",
       "      <td>ぶりのかまをＡにつけて20分ほどおき、下味をつけます。時々裏返します。\\nねぎは約20cm長...</td>\n",
       "      <td>15～30分</td>\n",
       "      <td>kcal</td>\n",
       "      <td>{'食材': '4人分', 'ぶりのかま': '２～４切れ（400～600g）', 'Ａ':...</td>\n",
       "      <td>[食材, ぶりのかま, Ａ, ねぎ]</td>\n",
       "      <td>146</td>\n",
       "      <td>betterhome</td>\n",
       "      <td></td>\n",
       "      <td>0</td>\n",
       "    </tr>\n",
       "    <tr>\n",
       "      <th>3887</th>\n",
       "      <td>かりん酒</td>\n",
       "      <td>https://www.bh-recipe.jp/recipe/020600071.html</td>\n",
       "      <td>保存びんに、グラニュ糖（または氷砂糖）と焼酎を入れます。\\nかりんは、表面をふきんを使ってこ...</td>\n",
       "      <td>15分以内</td>\n",
       "      <td>kcal</td>\n",
       "      <td>{'食材': ' ', 'かりん（黄色く熟したもの）': '中２個（約500g）', 'グラ...</td>\n",
       "      <td>[食材, かりん（黄色く熟したもの）, グラニュ糖、または氷砂糖, 焼酎（35度）]</td>\n",
       "      <td>139</td>\n",
       "      <td>betterhome</td>\n",
       "      <td></td>\n",
       "      <td>0</td>\n",
       "    </tr>\n",
       "    <tr>\n",
       "      <th>3952</th>\n",
       "      <td>残り野菜のかんたんみそ漬け</td>\n",
       "      <td>https://www.bh-recipe.jp/recipe/050600124.html</td>\n",
       "      <td>ポリ袋にみそとみりんを混ぜ合わせます。\\n野菜は食べやすい大きさに切り、ポリ袋に入れます。み...</td>\n",
       "      <td>60分以上</td>\n",
       "      <td>kcal</td>\n",
       "      <td>{'食材': ' ', '残り野菜': '合計３００ｇ', '残り野菜合計３００ｇ': {'...</td>\n",
       "      <td>[食材, 残り野菜, 残り野菜合計３００ｇ]</td>\n",
       "      <td>66</td>\n",
       "      <td>betterhome</td>\n",
       "      <td></td>\n",
       "      <td>0</td>\n",
       "    </tr>\n",
       "    <tr>\n",
       "      <th>4006</th>\n",
       "      <td>残り野菜のオーブン焼き</td>\n",
       "      <td>https://www.bh-recipe.jp/recipe/050600126.html</td>\n",
       "      <td>野菜を食べやすい大きさに切って耐熱容器に並べます。\\nオリーブ油を全体にかけ、塩・こしょうを...</td>\n",
       "      <td>15分以内</td>\n",
       "      <td>kcal</td>\n",
       "      <td>{'食材': ' ', '残り野菜': '適量', 'オリーブ油': '適量', '塩': ...</td>\n",
       "      <td>[食材, 残り野菜, オリーブ油, 塩, こしょう]</td>\n",
       "      <td>89</td>\n",
       "      <td>betterhome</td>\n",
       "      <td></td>\n",
       "      <td>0</td>\n",
       "    </tr>\n",
       "    <tr>\n",
       "      <th>4137</th>\n",
       "      <td>鮎の塩焼き・梅みそ焼き</td>\n",
       "      <td>https://www.bh-recipe.jp/recipe/020900026.html</td>\n",
       "      <td>あゆは、包丁でうろことぬめりをとります。表面をそっと洗い、水気をふきます。\\n塩焼きの場合\\...</td>\n",
       "      <td>30～60分</td>\n",
       "      <td>kcal</td>\n",
       "      <td>{'食材': '4人分', 'あゆ': '４尾（約３２０ｇ）', '２尾を塩焼きの場合': ...</td>\n",
       "      <td>[食材, あゆ, ２尾を塩焼きの場合, 塩, 化粧塩, ２尾をみそ焼きの場合, 梅みそ（作り...</td>\n",
       "      <td>354</td>\n",
       "      <td>betterhome</td>\n",
       "      <td></td>\n",
       "      <td>0</td>\n",
       "    </tr>\n",
       "    <tr>\n",
       "      <th>4272</th>\n",
       "      <td>一夜干し</td>\n",
       "      <td>https://www.bh-recipe.jp/recipe/011700248.html</td>\n",
       "      <td>いずれもたて塩につけてから、干すか脱水シートで脱水します。つける時間、干す時間は魚の厚さによ...</td>\n",
       "      <td>60分以上</td>\n",
       "      <td>kcal</td>\n",
       "      <td>{'食材': ' ', 'あじ': '適量', 'かます': '適量', 'いぼだい': '...</td>\n",
       "      <td>[食材, あじ, かます, いぼだい, きす, いか, たて塩（割合）]</td>\n",
       "      <td>344</td>\n",
       "      <td>betterhome</td>\n",
       "      <td></td>\n",
       "      <td>0</td>\n",
       "    </tr>\n",
       "  </tbody>\n",
       "</table>\n",
       "</div>"
      ],
      "text/plain": [
       "              title                                             url  \\\n",
       "212     生すじこのしょうゆ漬け  https://www.bh-recipe.jp/recipe/020600074.html   \n",
       "387         レモンの砂糖煮  https://www.bh-recipe.jp/recipe/050600120.html   \n",
       "601   ハートのチョコレートケーキ  https://www.bh-recipe.jp/recipe/020900115.html   \n",
       "1347           前菜３種  https://www.bh-recipe.jp/recipe/020600077.html   \n",
       "1377         プチピクルス  https://www.bh-recipe.jp/recipe/051900090.html   \n",
       "1437       残り野菜のスープ  https://www.bh-recipe.jp/recipe/050600125.html   \n",
       "1532    とりの皮のカリカリ焼き  https://www.bh-recipe.jp/recipe/050600267.html   \n",
       "1692   だいこんのスライスサラダ  https://www.bh-recipe.jp/recipe/020100054.html   \n",
       "1716          しょうが湯  https://www.bh-recipe.jp/recipe/020600096.html   \n",
       "2279           大根あめ  https://www.bh-recipe.jp/recipe/020600099.html   \n",
       "2972          骨せんべい  https://www.bh-recipe.jp/recipe/050600266.html   \n",
       "3047        いかのわたあえ  https://www.bh-recipe.jp/recipe/020600030.html   \n",
       "3568       寒ぶりのかま焼き  https://www.bh-recipe.jp/recipe/020600087.html   \n",
       "3887           かりん酒  https://www.bh-recipe.jp/recipe/020600071.html   \n",
       "3952  残り野菜のかんたんみそ漬け  https://www.bh-recipe.jp/recipe/050600124.html   \n",
       "4006    残り野菜のオーブン焼き  https://www.bh-recipe.jp/recipe/050600126.html   \n",
       "4137    鮎の塩焼き・梅みそ焼き  https://www.bh-recipe.jp/recipe/020900026.html   \n",
       "4272           一夜干し  https://www.bh-recipe.jp/recipe/011700248.html   \n",
       "\n",
       "                                                 recipe    time calory  \\\n",
       "212   生すじこを水でさっと洗います。\\nボールにもち網をのせ、すじこを薄皮を上にしてのせます。もち...  15～30分   kcal   \n",
       "387   レモンは、皮が気になるようなら、皮むき器などで薄くけずりとります。\\n（１）の重量をはかり、...  15～30分   kcal   \n",
       "601   型にバター（材料外）を塗ります。\\nボールにＡを入れ、湯せんにかけて溶かします。溶けたら、湯...  15～30分   kcal   \n",
       "1347  【数の子入り松前漬け】　にんじんは３cm長さのせん切りにします。Ａを合わせてひと煮立ちさせ、...           kcal   \n",
       "1377  野菜は器の高さの八分目までに入るように形をそろえる。（aはそれぞれスティック状に切る。bはへ...   15分以内   kcal   \n",
       "1437  野菜や皮を１ｃｍ角くらいの大きさにそろえて切ります。ベーコンも同じ大きさに切ります。\\n鍋に...   15分以内   kcal   \n",
       "1532  とりの皮は、熱湯でさっとゆでます。水気をふきとります。\\n焼き網にのせ、塩、こしょうをふって...   15分以内   kcal   \n",
       "1692  だいこんを３～４ｃｍ長さに切って、かつらむきにします。長くむき続ける必要はなく、５～６ｃｍず...   15分以内   kcal   \n",
       "1716  しょうがは皮つきのまま薄切りにします。\\n小鍋に分量の水としょうがを入れ、弱火で７～８分煮て...   15分以内   kcal   \n",
       "2279  大根は皮つきのまま1.5cmくらいの角切りにし、容器に入れます。\\n大根がかくれるまではちみ...   15分以内   kcal   \n",
       "2972  骨の水気をふき、塩、こしょうをふります。小麦粉を薄くつけて、低温（１６０度）の油でゆっくりと...  15～30分   kcal   \n",
       "3047  いかは内臓をとります。胴は皮をむいて５mm幅程度の細切りにし、刺し身にします。\\nいかのわた...  15～30分   kcal   \n",
       "3568  ぶりのかまをＡにつけて20分ほどおき、下味をつけます。時々裏返します。\\nねぎは約20cm長...  15～30分   kcal   \n",
       "3887  保存びんに、グラニュ糖（または氷砂糖）と焼酎を入れます。\\nかりんは、表面をふきんを使ってこ...   15分以内   kcal   \n",
       "3952  ポリ袋にみそとみりんを混ぜ合わせます。\\n野菜は食べやすい大きさに切り、ポリ袋に入れます。み...   60分以上   kcal   \n",
       "4006  野菜を食べやすい大きさに切って耐熱容器に並べます。\\nオリーブ油を全体にかけ、塩・こしょうを...   15分以内   kcal   \n",
       "4137  あゆは、包丁でうろことぬめりをとります。表面をそっと洗い、水気をふきます。\\n塩焼きの場合\\...  30～60分   kcal   \n",
       "4272  いずれもたて塩につけてから、干すか脱水シートで脱水します。つける時間、干す時間は魚の厚さによ...   60分以上   kcal   \n",
       "\n",
       "                                            ingredients  \\\n",
       "212   {'食材': ' ', '生すじこ': '１／２腹（200～300g）', 'Ａ': {'酒...   \n",
       "387   {'食材': ' ', '汁をしぼったあとのレモン': '適量', '砂糖（レモンの重さの５...   \n",
       "601   {'食材': ' ', 'A': '', 'スイートチョコレート': '６０ｇ', 'バター...   \n",
       "1347  {'食材': '4人分', '【数の子入り松前漬け】': '', '松前漬け用するめと昆布の...   \n",
       "1377  {'食材': ' ', 'a': {'きゅうり・セロリ・パプリカ': '80～100g'},...   \n",
       "1437  {'食材': '2人分', '少し残った野菜各種＋人参の皮など': '２００ｇ', 'あれば...   \n",
       "1532  {'食材': ' ', 'とり肉の皮': '適量', '塩': '少々', 'こしょう': ...   \n",
       "1692               {'食材': ' ', 'だいこん': '適量', '塩': '適量'}   \n",
       "1716  {'食材': '4人分', 'しょうが': '１かけ（10g）', '水': '200ml'...   \n",
       "2279  {'食材': '4人分', 'だいこん': '１／８本（約120g）', 'はちみつ': '...   \n",
       "2972  {'食材': ' ', 'おろしたあとに残った魚の中骨': '適量', '塩': '少々',...   \n",
       "3047  {'食材': '4人分', 'いか（刺し身用）': '１ぱい（300g）', '塩': '少...   \n",
       "3568  {'食材': '4人分', 'ぶりのかま': '２～４切れ（400～600g）', 'Ａ':...   \n",
       "3887  {'食材': ' ', 'かりん（黄色く熟したもの）': '中２個（約500g）', 'グラ...   \n",
       "3952  {'食材': ' ', '残り野菜': '合計３００ｇ', '残り野菜合計３００ｇ': {'...   \n",
       "4006  {'食材': ' ', '残り野菜': '適量', 'オリーブ油': '適量', '塩': ...   \n",
       "4137  {'食材': '4人分', 'あゆ': '４尾（約３２０ｇ）', '２尾を塩焼きの場合': ...   \n",
       "4272  {'食材': ' ', 'あじ': '適量', 'かます': '適量', 'いぼだい': '...   \n",
       "\n",
       "                                               ing_only  recipe_length  \\\n",
       "212                                       [食材, 生すじこ, Ａ]            205   \n",
       "387                  [食材, 汁をしぼったあとのレモン, 砂糖（レモンの重さの５０％）]            118   \n",
       "601   [食材, A, スイートチョコレート, バター（食塩不使用）, 卵, 砂糖, ブランデー, ...            250   \n",
       "1347  [食材, 【数の子入り松前漬け】, 松前漬け用するめと昆布の細切り（市販品）, 塩蔵数の子,...            237   \n",
       "1377                       [食材, a, b, c, d, e, ［ピクルス液］]            258   \n",
       "1437  [食材, 少し残った野菜各種＋人参の皮など, あればベーコン, スープ（水＋スープの素適量）...             98   \n",
       "1532                      [食材, とり肉の皮, 塩, こしょう, 七味とうがらし]             81   \n",
       "1692                                      [食材, だいこん, 塩]            109   \n",
       "1716                                [食材, しょうが, 水, はちみつ]             59   \n",
       "2279                                   [食材, だいこん, はちみつ]             89   \n",
       "2972            [食材, おろしたあとに残った魚の中骨, 塩, こしょう, 小麦粉, 揚げ油]             52   \n",
       "3047                           [食材, いか（刺し身用）, 塩, みそ, 酒]            190   \n",
       "3568                                 [食材, ぶりのかま, Ａ, ねぎ]            146   \n",
       "3887         [食材, かりん（黄色く熟したもの）, グラニュ糖、または氷砂糖, 焼酎（35度）]            139   \n",
       "3952                             [食材, 残り野菜, 残り野菜合計３００ｇ]             66   \n",
       "4006                         [食材, 残り野菜, オリーブ油, 塩, こしょう]             89   \n",
       "4137  [食材, あゆ, ２尾を塩焼きの場合, 塩, 化粧塩, ２尾をみそ焼きの場合, 梅みそ（作り...            354   \n",
       "4272               [食材, あじ, かます, いぼだい, きす, いか, たて塩（割合）]            344   \n",
       "\n",
       "     recipe_type calory_value  calory_is_num  \n",
       "212   betterhome                           0  \n",
       "387   betterhome                           0  \n",
       "601   betterhome                           0  \n",
       "1347  betterhome                           0  \n",
       "1377  betterhome                           0  \n",
       "1437  betterhome                           0  \n",
       "1532  betterhome                           0  \n",
       "1692  betterhome                           0  \n",
       "1716  betterhome                           0  \n",
       "2279  betterhome                           0  \n",
       "2972  betterhome                           0  \n",
       "3047  betterhome                           0  \n",
       "3568  betterhome                           0  \n",
       "3887  betterhome                           0  \n",
       "3952  betterhome                           0  \n",
       "4006  betterhome                           0  \n",
       "4137  betterhome                           0  \n",
       "4272  betterhome                           0  "
      ]
     },
     "execution_count": 140,
     "metadata": {},
     "output_type": "execute_result"
    }
   ],
   "source": [
    "bet[bet['calory_is_num'] == 0]"
   ]
  },
  {
   "cell_type": "code",
   "execution_count": 141,
   "metadata": {},
   "outputs": [],
   "source": [
    "bet_collect_calory = bet[bet['calory_is_num'] == 1]\n",
    "bet_calory = bet_collect_calory['calory_value'].dropna()\\\n",
    ".apply(lambda x: int(x))"
   ]
  },
  {
   "cell_type": "code",
   "execution_count": 142,
   "metadata": {
    "scrolled": true
   },
   "outputs": [
    {
     "data": {
      "image/png": "[encoded data removed]",
      "text/plain": [
       "<Figure size 432x288 with 1 Axes>"
      ]
     },
     "metadata": {},
     "output_type": "display_data"
    }
   ],
   "source": [
    "sns.distplot(ora_calory, label='orangepage')\n",
    "sns.distplot(bet_calory, label='betterhome')\n",
    "plt.legend()\n",
    "plt.show()"
   ]
  },
  {
   "cell_type": "code",
   "execution_count": 143,
   "metadata": {},
   "outputs": [
    {
     "data": {
      "image/png": "[encoded data removed]",
      "text/plain": [
       "<Figure size 432x288 with 1 Axes>"
      ]
     },
     "metadata": {},
     "output_type": "display_data"
    }
   ],
   "source": [
    "ora_calory_df = pd.DataFrame({})\n",
    "ora_calory_df['calory'] = ora_calory\n",
    "ora_calory_df['type'] = ora_calory_df['calory'].apply(lambda x: 'orangepage')\n",
    "bet_calory_df = pd.DataFrame({})\n",
    "bet_calory_df['calory'] = bet_calory\n",
    "bet_calory_df['type'] = bet_calory_df['calory'].apply(lambda x: 'betterhome')\n",
    "all_calory_df = pd.concat([ora_calory_df, bet_calory_df])\n",
    "sns.violinplot(x='type', y='calory', data=all_calory_df)\n",
    "plt.show()\n"
   ]
  },
  {
   "cell_type": "code",
   "execution_count": 144,
   "metadata": {
    "scrolled": true
   },
   "outputs": [
    {
     "data": {
      "text/plain": [
       "count    12981.000000\n",
       "mean       325.433865\n",
       "std        166.486428\n",
       "min         13.000000\n",
       "25%        203.000000\n",
       "50%        313.000000\n",
       "75%        431.000000\n",
       "max        901.000000\n",
       "Name: calory, dtype: float64"
      ]
     },
     "execution_count": 144,
     "metadata": {},
     "output_type": "execute_result"
    }
   ],
   "source": [
    "ora_calory.describe()"
   ]
  },
  {
   "cell_type": "code",
   "execution_count": 145,
   "metadata": {
    "scrolled": false
   },
   "outputs": [
    {
     "data": {
      "text/plain": [
       "count    4412.000000\n",
       "mean      235.186763\n",
       "std       180.184306\n",
       "min         4.000000\n",
       "25%       102.000000\n",
       "50%       195.500000\n",
       "75%       320.000000\n",
       "max      2045.000000\n",
       "Name: calory_value, dtype: float64"
      ]
     },
     "execution_count": 145,
     "metadata": {},
     "output_type": "execute_result"
    }
   ],
   "source": [
    "bet_calory.describe()"
   ]
  },
  {
   "cell_type": "code",
   "execution_count": 146,
   "metadata": {},
   "outputs": [
    {
     "data": {
      "image/png": "[encoded data removed]",
      "text/plain": [
       "<Figure size 720x1080 with 6 Axes>"
      ]
     },
     "metadata": {},
     "output_type": "display_data"
    }
   ],
   "source": [
    "calory_desc = pd.DataFrame({})\n",
    "ora_calory_desc = ora_calory.describe()\n",
    "ora_calory_desc['type'] = 'orangepage'\n",
    "bet_calory_desc = bet_calory.describe()\n",
    "bet_calory_desc['type'] = 'betterhome'\n",
    "calory_desc['orangepage'] = ora_calory_desc\n",
    "calory_desc['betterhome'] = bet_calory_desc\n",
    "describe_plot(calory_desc)\n"
   ]
  },
  {
   "cell_type": "markdown",
   "metadata": {},
   "source": [
    "# 食材数の比較"
   ]
  },
  {
   "cell_type": "code",
   "execution_count": 147,
   "metadata": {},
   "outputs": [],
   "source": [
    "ora_ing = ora['ingredients']\\\n",
    ".apply(lambda x: len(list(fetch_nest_dictkey(x))))\n",
    "bet_ing = bet['ingredients']\\\n",
    ".apply(lambda x: len(list(fetch_nest_dictkey(x))))"
   ]
  },
  {
   "cell_type": "code",
   "execution_count": 148,
   "metadata": {
    "scrolled": true
   },
   "outputs": [
    {
     "data": {
      "image/png": "[encoded data removed]",
      "text/plain": [
       "<Figure size 432x288 with 1 Axes>"
      ]
     },
     "metadata": {},
     "output_type": "display_data"
    }
   ],
   "source": [
    "sns.distplot(ora_ing, label='orangepage')\n",
    "sns.distplot(bet_ing, label='betterhome')\n",
    "plt.legend()\n",
    "plt.show()"
   ]
  },
  {
   "cell_type": "code",
   "execution_count": 149,
   "metadata": {},
   "outputs": [
    {
     "data": {
      "image/png": "[encoded data removed]",
      "text/plain": [
       "<Figure size 432x288 with 1 Axes>"
      ]
     },
     "metadata": {},
     "output_type": "display_data"
    }
   ],
   "source": [
    "ora_ing_df = pd.DataFrame({})\n",
    "ora_ing_df['ingredients'] = ora_ing\n",
    "ora_ing_df['type'] = ora_ing_df['ingredients'].apply(lambda x: 'orangepage')\n",
    "bet_ing_df = pd.DataFrame({})\n",
    "bet_ing_df['ingredients'] = bet_ing\n",
    "bet_ing_df['type'] = bet_ing_df['ingredients'].apply(lambda x: 'betterhome')\n",
    "all_ing_df = pd.concat([ora_ing_df, bet_ing_df])\n",
    "sns.violinplot(x='type', y='ingredients', data=all_ing_df)\n",
    "plt.show()"
   ]
  },
  {
   "cell_type": "code",
   "execution_count": 150,
   "metadata": {
    "scrolled": true
   },
   "outputs": [
    {
     "data": {
      "text/plain": [
       "count    15499.000000\n",
       "mean         9.907091\n",
       "std          4.273525\n",
       "min          1.000000\n",
       "25%          7.000000\n",
       "50%          9.000000\n",
       "75%         12.000000\n",
       "max         36.000000\n",
       "Name: ingredients, dtype: float64"
      ]
     },
     "execution_count": 150,
     "metadata": {},
     "output_type": "execute_result"
    }
   ],
   "source": [
    "ora_ing.describe()"
   ]
  },
  {
   "cell_type": "code",
   "execution_count": 151,
   "metadata": {},
   "outputs": [
    {
     "data": {
      "text/plain": [
       "count    4430.000000\n",
       "mean       11.627991\n",
       "std         5.074761\n",
       "min         3.000000\n",
       "25%         8.000000\n",
       "50%        11.000000\n",
       "75%        14.000000\n",
       "max        53.000000\n",
       "Name: ingredients, dtype: float64"
      ]
     },
     "execution_count": 151,
     "metadata": {},
     "output_type": "execute_result"
    }
   ],
   "source": [
    "bet_ing.describe()"
   ]
  },
  {
   "cell_type": "code",
   "execution_count": 152,
   "metadata": {},
   "outputs": [
    {
     "data": {
      "image/png": "[encoded data removed]",
      "text/plain": [
       "<Figure size 720x1080 with 6 Axes>"
      ]
     },
     "metadata": {},
     "output_type": "display_data"
    }
   ],
   "source": [
    "ing_desc = pd.DataFrame({})\n",
    "ora_ing_desc = ora_ing.describe()\n",
    "ora_ing_desc['type'] = 'orangepage'\n",
    "bet_ing_desc = bet_ing.describe()\n",
    "bet_ing_desc['type'] = 'betterhome'\n",
    "ing_desc['orangepage'] = ora_ing_desc\n",
    "ing_desc['betterhome'] = bet_ing_desc\n",
    "describe_plot(ing_desc)"
   ]
  },
  {
   "cell_type": "markdown",
   "metadata": {},
   "source": [
    "# 調理時間の予測結果"
   ]
  },
  {
   "cell_type": "code",
   "execution_count": 153,
   "metadata": {},
   "outputs": [
    {
     "data": {
      "text/html": [
       "<div>\n",
       "<style scoped>\n",
       "    .dataframe tbody tr th:only-of-type {\n",
       "        vertical-align: middle;\n",
       "    }\n",
       "\n",
       "    .dataframe tbody tr th {\n",
       "        vertical-align: top;\n",
       "    }\n",
       "\n",
       "    .dataframe thead th {\n",
       "        text-align: right;\n",
       "    }\n",
       "</style>\n",
       "<table border=\"1\" class=\"dataframe\">\n",
       "  <thead>\n",
       "    <tr style=\"text-align: right;\">\n",
       "      <th></th>\n",
       "      <th>Unnamed: 0</th>\n",
       "      <th>title</th>\n",
       "      <th>time_label</th>\n",
       "      <th>eval_time</th>\n",
       "      <th>result:</th>\n",
       "    </tr>\n",
       "  </thead>\n",
       "  <tbody>\n",
       "    <tr>\n",
       "      <th>0</th>\n",
       "      <td>0</td>\n",
       "      <td>ミートパイ</td>\n",
       "      <td>15～30分</td>\n",
       "      <td>24</td>\n",
       "      <td>1</td>\n",
       "    </tr>\n",
       "    <tr>\n",
       "      <th>1</th>\n",
       "      <td>1</td>\n",
       "      <td>ポテトのマヨネーズ焼き</td>\n",
       "      <td>15分以内</td>\n",
       "      <td>27</td>\n",
       "      <td>0</td>\n",
       "    </tr>\n",
       "    <tr>\n",
       "      <th>2</th>\n",
       "      <td>2</td>\n",
       "      <td>ポテトのフライパン焼き</td>\n",
       "      <td>15分以内</td>\n",
       "      <td>8</td>\n",
       "      <td>1</td>\n",
       "    </tr>\n",
       "    <tr>\n",
       "      <th>3</th>\n",
       "      <td>3</td>\n",
       "      <td>青菜マーボー</td>\n",
       "      <td>15分以内</td>\n",
       "      <td>7</td>\n",
       "      <td>1</td>\n",
       "    </tr>\n",
       "    <tr>\n",
       "      <th>4</th>\n",
       "      <td>4</td>\n",
       "      <td>ズッキーニのバジリコソース</td>\n",
       "      <td>15分以内</td>\n",
       "      <td>10</td>\n",
       "      <td>1</td>\n",
       "    </tr>\n",
       "  </tbody>\n",
       "</table>\n",
       "</div>"
      ],
      "text/plain": [
       "   Unnamed: 0          title time_label  eval_time  result:\n",
       "0           0          ミートパイ     15～30分         24        1\n",
       "1           1    ポテトのマヨネーズ焼き      15分以内         27        0\n",
       "2           2    ポテトのフライパン焼き      15分以内          8        1\n",
       "3           3         青菜マーボー      15分以内          7        1\n",
       "4           4  ズッキーニのバジリコソース      15分以内         10        1"
      ]
     },
     "execution_count": 153,
     "metadata": {},
     "output_type": "execute_result"
    }
   ],
   "source": [
    "df = pd.read_csv('result.csv', delimiter=',', encoding='utf-8')\n",
    "df.head()"
   ]
  },
  {
   "cell_type": "code",
   "execution_count": 157,
   "metadata": {},
   "outputs": [],
   "source": [
    "sample_length = len(df)\n",
    "correct = df[df['result:'] == 1]\n",
    "correct_length = len(correct)\n",
    "incorrect = df[df['result:'] == 0]\n",
    "incorrect_length = len(incorrect)"
   ]
  },
  {
   "cell_type": "code",
   "execution_count": 158,
   "metadata": {},
   "outputs": [
    {
     "data": {
      "text/plain": [
       "64"
      ]
     },
     "execution_count": 158,
     "metadata": {},
     "output_type": "execute_result"
    }
   ],
   "source": [
    "correct_length"
   ]
  },
  {
   "cell_type": "code",
   "execution_count": 159,
   "metadata": {},
   "outputs": [
    {
     "data": {
      "text/plain": [
       "36"
      ]
     },
     "execution_count": 159,
     "metadata": {},
     "output_type": "execute_result"
    }
   ],
   "source": [
    "incorrect_length"
   ]
  },
  {
   "cell_type": "code",
   "execution_count": 160,
   "metadata": {},
   "outputs": [
    {
     "name": "stdout",
     "output_type": "stream",
     "text": [
      "accuracy :  0.64\n"
     ]
    }
   ],
   "source": [
    "accuracy = correct_length / sample_length\n",
    "print('accuracy : ', accuracy)"
   ]
  },
  {
   "cell_type": "markdown",
   "metadata": {},
   "source": [
    "## 評価した時間の分布"
   ]
  },
  {
   "cell_type": "code",
   "execution_count": 161,
   "metadata": {},
   "outputs": [
    {
     "data": {
      "image/png": "[encoded data removed]",
      "text/plain": [
       "<Figure size 432x288 with 1 Axes>"
      ]
     },
     "metadata": {},
     "output_type": "display_data"
    }
   ],
   "source": [
    "sns.distplot(df['eval_time'])\n",
    "plt.show()"
   ]
  }
 ],
 "metadata": {
  "kernelspec": {
   "display_name": "Python 3",
   "language": "python",
   "name": "python3"
  },
  "language_info": {
   "codemirror_mode": {
    "name": "ipython",
    "version": 3
   },
   "file_extension": ".py",
   "mimetype": "text/x-python",
   "name": "python",
   "nbconvert_exporter": "python",
   "pygments_lexer": "ipython3",
   "version": "3.7.3"
  }
 },
 "nbformat": 4,
 "nbformat_minor": 2
}
